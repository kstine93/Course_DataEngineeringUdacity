{
 "cells": [
  {
   "cell_type": "markdown",
   "metadata": {},
   "source": [
    "## Redshift Setup with Python SDK (boto3)\n",
    "This notebook will show how to set up some AWS resources using the Python SDK for AWS, boto3.\n",
    "\n",
    "Boto3 Documentation: https://boto3.amazonaws.com/v1/documentation/api/latest/reference/services/redshift.html"
   ]
  },
  {
   "cell_type": "markdown",
   "metadata": {},
   "source": [
    "---\n",
    "\n",
    "#### Package Import\n",
    "\n",
    "---"
   ]
  },
  {
   "cell_type": "code",
   "execution_count": 24,
   "metadata": {},
   "outputs": [],
   "source": [
    "import boto3\n",
    "import re\n",
    "import configparser\n"
   ]
  },
  {
   "cell_type": "code",
   "execution_count": 31,
   "metadata": {},
   "outputs": [],
   "source": [
    "#Custom code for importing AWS credentials from where VS Code stores them on local machine to a local Python file,\n",
    "#which can be more easily imported as credentials to Python (https://stackoverflow.com/questions/25501403/storing-the-secrets-passwords-in-a-separate-file)\n",
    "\n",
    "'''\n",
    "Note: Deprecated. Could be a cool method to store credentials in the future, but not worth creating a whole new file for\n",
    "just these credentials (less secure too).\n",
    "'''\n",
    "#import shutil\n",
    "\n",
    "# #Find and copy file\n",
    "# orig_path = \"/home/rambino/.aws/credentials\"\n",
    "# #Must be full file path to ensure .gitignore understands it\n",
    "# new_file_name = \"cred_*.py\"\n",
    "# new_file_name = os.getcwd() + \"/\" + new_file_name\n",
    "\n",
    "# shutil.copyfile(orig_path,new_file_name)\n",
    "\n",
    "# #add to local .gitignore (credentials):\n",
    "# with open(\"../.gitignore\",\"a\") as file:\n",
    "#     file.write(\"\\n\")\n",
    "#     file.write(new_file_name)\n"
   ]
  },
  {
   "cell_type": "markdown",
   "metadata": {},
   "source": [
    "---\n",
    "\n",
    "#### Loading Credentials from file\n",
    "\n",
    "---"
   ]
  },
  {
   "cell_type": "code",
   "execution_count": 28,
   "metadata": {},
   "outputs": [
    {
     "data": {
      "text/plain": [
       "['udacity_course', 'redshift_credentials']"
      ]
     },
     "execution_count": 28,
     "metadata": {},
     "output_type": "execute_result"
    }
   ],
   "source": [
    "config = configparser.ConfigParser()\n",
    "\n",
    "config.read_file(open(\"/home/rambino/.aws/credentials\"))\n",
    "aws_key         = config.get('udacity_course','aws_access_key_id')\n",
    "aws_secret      = config.get('udacity_course','aws_secret_access_key')\n",
    "\n",
    "config.read_file(open(\"./redshift_credentials.cfg\"))\n",
    "redshift_user   = config.get('redshift_credentials','UN')\n",
    "redshift_password   = config.get('redshift_credentials','PW')"
   ]
  },
  {
   "cell_type": "markdown",
   "metadata": {},
   "source": [
    "---\n",
    "\n",
    "#### Creating IAM role for Redshift\n",
    "\n",
    "---"
   ]
  },
  {
   "cell_type": "code",
   "execution_count": 29,
   "metadata": {},
   "outputs": [],
   "source": [
    "iam = boto3.client('iam',\n",
    "    region_name             = \"us-west-2\",\n",
    "    aws_access_key_id       = aws_key,\n",
    "    aws_secret_access_key   = aws_secret\n",
    ")"
   ]
  },
  {
   "cell_type": "code",
   "execution_count": 12,
   "metadata": {},
   "outputs": [
    {
     "ename": "EntityAlreadyExistsException",
     "evalue": "An error occurred (EntityAlreadyExists) when calling the CreateRole operation: Role with name RedShift_Impersonation already exists.",
     "output_type": "error",
     "traceback": [
      "\u001b[0;31m---------------------------------------------------------------------------\u001b[0m",
      "\u001b[0;31mEntityAlreadyExistsException\u001b[0m              Traceback (most recent call last)",
      "\u001b[1;32m/home/rambino/dev/DataEngineering_Udacity/04_AWS_DataWarehousing/redshift_boto3Setup.ipynb Cell 11\u001b[0m in \u001b[0;36m<cell line: 8>\u001b[0;34m()\u001b[0m\n\u001b[1;32m      <a href='vscode-notebook-cell:/home/rambino/dev/DataEngineering_Udacity/04_AWS_DataWarehousing/redshift_boto3Setup.ipynb#X10sZmlsZQ%3D%3D?line=0'>1</a>\u001b[0m \u001b[39m#Create IAM role:\u001b[39;00m\n\u001b[1;32m      <a href='vscode-notebook-cell:/home/rambino/dev/DataEngineering_Udacity/04_AWS_DataWarehousing/redshift_boto3Setup.ipynb#X10sZmlsZQ%3D%3D?line=1'>2</a>\u001b[0m \n\u001b[1;32m      <a href='vscode-notebook-cell:/home/rambino/dev/DataEngineering_Udacity/04_AWS_DataWarehousing/redshift_boto3Setup.ipynb#X10sZmlsZQ%3D%3D?line=2'>3</a>\u001b[0m \u001b[39m#This policy is something about allowing Redshift to impersonate a user, but I don't really understand it.\u001b[39;00m\n\u001b[1;32m      <a href='vscode-notebook-cell:/home/rambino/dev/DataEngineering_Udacity/04_AWS_DataWarehousing/redshift_boto3Setup.ipynb#X10sZmlsZQ%3D%3D?line=3'>4</a>\u001b[0m \u001b[39m#Look more into what \"sts:AssumeRole\" really means.\u001b[39;00m\n\u001b[1;32m      <a href='vscode-notebook-cell:/home/rambino/dev/DataEngineering_Udacity/04_AWS_DataWarehousing/redshift_boto3Setup.ipynb#X10sZmlsZQ%3D%3D?line=5'>6</a>\u001b[0m \u001b[39mimport\u001b[39;00m \u001b[39mjson\u001b[39;00m\n\u001b[0;32m----> <a href='vscode-notebook-cell:/home/rambino/dev/DataEngineering_Udacity/04_AWS_DataWarehousing/redshift_boto3Setup.ipynb#X10sZmlsZQ%3D%3D?line=7'>8</a>\u001b[0m dwhRole \u001b[39m=\u001b[39m iam\u001b[39m.\u001b[39;49mcreate_role(\n\u001b[1;32m      <a href='vscode-notebook-cell:/home/rambino/dev/DataEngineering_Udacity/04_AWS_DataWarehousing/redshift_boto3Setup.ipynb#X10sZmlsZQ%3D%3D?line=8'>9</a>\u001b[0m     Path \u001b[39m=\u001b[39;49m \u001b[39m\"\u001b[39;49m\u001b[39m/\u001b[39;49m\u001b[39m\"\u001b[39;49m,\n\u001b[1;32m     <a href='vscode-notebook-cell:/home/rambino/dev/DataEngineering_Udacity/04_AWS_DataWarehousing/redshift_boto3Setup.ipynb#X10sZmlsZQ%3D%3D?line=9'>10</a>\u001b[0m     RoleName \u001b[39m=\u001b[39;49m  \u001b[39m\"\u001b[39;49m\u001b[39mRedShift_Impersonation\u001b[39;49m\u001b[39m\"\u001b[39;49m,\n\u001b[1;32m     <a href='vscode-notebook-cell:/home/rambino/dev/DataEngineering_Udacity/04_AWS_DataWarehousing/redshift_boto3Setup.ipynb#X10sZmlsZQ%3D%3D?line=10'>11</a>\u001b[0m     Description \u001b[39m=\u001b[39;49m \u001b[39m\"\u001b[39;49m\u001b[39mAllows redshift to access S3\u001b[39;49m\u001b[39m\"\u001b[39;49m,\n\u001b[1;32m     <a href='vscode-notebook-cell:/home/rambino/dev/DataEngineering_Udacity/04_AWS_DataWarehousing/redshift_boto3Setup.ipynb#X10sZmlsZQ%3D%3D?line=11'>12</a>\u001b[0m     AssumeRolePolicyDocument\u001b[39m=\u001b[39;49mjson\u001b[39m.\u001b[39;49mdumps(\n\u001b[1;32m     <a href='vscode-notebook-cell:/home/rambino/dev/DataEngineering_Udacity/04_AWS_DataWarehousing/redshift_boto3Setup.ipynb#X10sZmlsZQ%3D%3D?line=12'>13</a>\u001b[0m         {\n\u001b[1;32m     <a href='vscode-notebook-cell:/home/rambino/dev/DataEngineering_Udacity/04_AWS_DataWarehousing/redshift_boto3Setup.ipynb#X10sZmlsZQ%3D%3D?line=13'>14</a>\u001b[0m             \u001b[39m\"\u001b[39;49m\u001b[39mVersion\u001b[39;49m\u001b[39m\"\u001b[39;49m: \u001b[39m\"\u001b[39;49m\u001b[39m2012-10-17\u001b[39;49m\u001b[39m\"\u001b[39;49m,\n\u001b[1;32m     <a href='vscode-notebook-cell:/home/rambino/dev/DataEngineering_Udacity/04_AWS_DataWarehousing/redshift_boto3Setup.ipynb#X10sZmlsZQ%3D%3D?line=14'>15</a>\u001b[0m             \u001b[39m\"\u001b[39;49m\u001b[39mStatement\u001b[39;49m\u001b[39m\"\u001b[39;49m: [\n\u001b[1;32m     <a href='vscode-notebook-cell:/home/rambino/dev/DataEngineering_Udacity/04_AWS_DataWarehousing/redshift_boto3Setup.ipynb#X10sZmlsZQ%3D%3D?line=15'>16</a>\u001b[0m                 {\n\u001b[1;32m     <a href='vscode-notebook-cell:/home/rambino/dev/DataEngineering_Udacity/04_AWS_DataWarehousing/redshift_boto3Setup.ipynb#X10sZmlsZQ%3D%3D?line=16'>17</a>\u001b[0m                     \u001b[39m\"\u001b[39;49m\u001b[39mEffect\u001b[39;49m\u001b[39m\"\u001b[39;49m: \u001b[39m\"\u001b[39;49m\u001b[39mAllow\u001b[39;49m\u001b[39m\"\u001b[39;49m,\n\u001b[1;32m     <a href='vscode-notebook-cell:/home/rambino/dev/DataEngineering_Udacity/04_AWS_DataWarehousing/redshift_boto3Setup.ipynb#X10sZmlsZQ%3D%3D?line=17'>18</a>\u001b[0m                     \u001b[39m\"\u001b[39;49m\u001b[39mAction\u001b[39;49m\u001b[39m\"\u001b[39;49m: \u001b[39m'\u001b[39;49m\u001b[39msts:AssumeRole\u001b[39;49m\u001b[39m'\u001b[39;49m,\n\u001b[1;32m     <a href='vscode-notebook-cell:/home/rambino/dev/DataEngineering_Udacity/04_AWS_DataWarehousing/redshift_boto3Setup.ipynb#X10sZmlsZQ%3D%3D?line=18'>19</a>\u001b[0m                     \u001b[39m\"\u001b[39;49m\u001b[39mPrincipal\u001b[39;49m\u001b[39m\"\u001b[39;49m:{\u001b[39m\"\u001b[39;49m\u001b[39mService\u001b[39;49m\u001b[39m\"\u001b[39;49m: \u001b[39m\"\u001b[39;49m\u001b[39mredshift.amazonaws.com\u001b[39;49m\u001b[39m\"\u001b[39;49m}\n\u001b[1;32m     <a href='vscode-notebook-cell:/home/rambino/dev/DataEngineering_Udacity/04_AWS_DataWarehousing/redshift_boto3Setup.ipynb#X10sZmlsZQ%3D%3D?line=19'>20</a>\u001b[0m                 }\n\u001b[1;32m     <a href='vscode-notebook-cell:/home/rambino/dev/DataEngineering_Udacity/04_AWS_DataWarehousing/redshift_boto3Setup.ipynb#X10sZmlsZQ%3D%3D?line=20'>21</a>\u001b[0m             ]\n\u001b[1;32m     <a href='vscode-notebook-cell:/home/rambino/dev/DataEngineering_Udacity/04_AWS_DataWarehousing/redshift_boto3Setup.ipynb#X10sZmlsZQ%3D%3D?line=21'>22</a>\u001b[0m         }\n\u001b[1;32m     <a href='vscode-notebook-cell:/home/rambino/dev/DataEngineering_Udacity/04_AWS_DataWarehousing/redshift_boto3Setup.ipynb#X10sZmlsZQ%3D%3D?line=22'>23</a>\u001b[0m     )\n\u001b[1;32m     <a href='vscode-notebook-cell:/home/rambino/dev/DataEngineering_Udacity/04_AWS_DataWarehousing/redshift_boto3Setup.ipynb#X10sZmlsZQ%3D%3D?line=23'>24</a>\u001b[0m )\n\u001b[1;32m     <a href='vscode-notebook-cell:/home/rambino/dev/DataEngineering_Udacity/04_AWS_DataWarehousing/redshift_boto3Setup.ipynb#X10sZmlsZQ%3D%3D?line=25'>26</a>\u001b[0m dwhRole\n",
      "File \u001b[0;32m~/.local/lib/python3.10/site-packages/botocore/client.py:508\u001b[0m, in \u001b[0;36mClientCreator._create_api_method.<locals>._api_call\u001b[0;34m(self, *args, **kwargs)\u001b[0m\n\u001b[1;32m    504\u001b[0m     \u001b[39mraise\u001b[39;00m \u001b[39mTypeError\u001b[39;00m(\n\u001b[1;32m    505\u001b[0m         \u001b[39mf\u001b[39m\u001b[39m\"\u001b[39m\u001b[39m{\u001b[39;00mpy_operation_name\u001b[39m}\u001b[39;00m\u001b[39m() only accepts keyword arguments.\u001b[39m\u001b[39m\"\u001b[39m\n\u001b[1;32m    506\u001b[0m     )\n\u001b[1;32m    507\u001b[0m \u001b[39m# The \"self\" in this scope is referring to the BaseClient.\u001b[39;00m\n\u001b[0;32m--> 508\u001b[0m \u001b[39mreturn\u001b[39;00m \u001b[39mself\u001b[39;49m\u001b[39m.\u001b[39;49m_make_api_call(operation_name, kwargs)\n",
      "File \u001b[0;32m~/.local/lib/python3.10/site-packages/botocore/client.py:915\u001b[0m, in \u001b[0;36mBaseClient._make_api_call\u001b[0;34m(self, operation_name, api_params)\u001b[0m\n\u001b[1;32m    913\u001b[0m     error_code \u001b[39m=\u001b[39m parsed_response\u001b[39m.\u001b[39mget(\u001b[39m\"\u001b[39m\u001b[39mError\u001b[39m\u001b[39m\"\u001b[39m, {})\u001b[39m.\u001b[39mget(\u001b[39m\"\u001b[39m\u001b[39mCode\u001b[39m\u001b[39m\"\u001b[39m)\n\u001b[1;32m    914\u001b[0m     error_class \u001b[39m=\u001b[39m \u001b[39mself\u001b[39m\u001b[39m.\u001b[39mexceptions\u001b[39m.\u001b[39mfrom_code(error_code)\n\u001b[0;32m--> 915\u001b[0m     \u001b[39mraise\u001b[39;00m error_class(parsed_response, operation_name)\n\u001b[1;32m    916\u001b[0m \u001b[39melse\u001b[39;00m:\n\u001b[1;32m    917\u001b[0m     \u001b[39mreturn\u001b[39;00m parsed_response\n",
      "\u001b[0;31mEntityAlreadyExistsException\u001b[0m: An error occurred (EntityAlreadyExists) when calling the CreateRole operation: Role with name RedShift_Impersonation already exists."
     ]
    }
   ],
   "source": [
    "#Create IAM role:\n",
    "\n",
    "#This policy is something about allowing Redshift to impersonate a user, but I don't really understand it.\n",
    "#Look more into what \"sts:AssumeRole\" really means.\n",
    "\n",
    "import json\n",
    "\n",
    "dwhRole = iam.create_role(\n",
    "    Path = \"/\",\n",
    "    RoleName =  \"RedShift_Impersonation\",\n",
    "    Description = \"Allows redshift to access S3\",\n",
    "    AssumeRolePolicyDocument=json.dumps(\n",
    "        {\n",
    "            \"Version\": \"2012-10-17\",\n",
    "            \"Statement\": [\n",
    "                {\n",
    "                    \"Effect\": \"Allow\",\n",
    "                    \"Action\": 'sts:AssumeRole',\n",
    "                    \"Principal\":{\"Service\": \"redshift.amazonaws.com\"}\n",
    "                }\n",
    "            ]\n",
    "        }\n",
    "    )\n",
    ")\n",
    "\n",
    "dwhRole"
   ]
  },
  {
   "cell_type": "code",
   "execution_count": 21,
   "metadata": {},
   "outputs": [
    {
     "name": "stdout",
     "output_type": "stream",
     "text": [
      "arn:aws:iam::380710778029:role/RedShift_Impersonation\n"
     ]
    }
   ],
   "source": [
    "role = iam.get_role(RoleName = \"Redshift_Impersonation\")\n",
    "role_arn = role['Role']['Arn']"
   ]
  },
  {
   "cell_type": "code",
   "execution_count": 73,
   "metadata": {},
   "outputs": [
    {
     "data": {
      "text/plain": [
       "{'ResponseMetadata': {'RequestId': 'adff6259-83f2-4371-8a63-2c18104d452d',\n",
       "  'HTTPStatusCode': 200,\n",
       "  'HTTPHeaders': {'x-amzn-requestid': 'adff6259-83f2-4371-8a63-2c18104d452d',\n",
       "   'content-type': 'text/xml',\n",
       "   'content-length': '212',\n",
       "   'date': 'Sun, 14 Aug 2022 18:56:57 GMT'},\n",
       "  'RetryAttempts': 0}}"
      ]
     },
     "execution_count": 73,
     "metadata": {},
     "output_type": "execute_result"
    }
   ],
   "source": [
    "#Attaching IAM policy to the role (which actually gives permissions):\n",
    "\n",
    "attach_response = iam.attach_role_policy(\n",
    "    RoleName = \"RedShift_Impersonation\",\n",
    "    PolicyArn=\"arn:aws:iam::aws:policy/AmazonS3ReadOnlyAccess\"\n",
    ")\n",
    "\n",
    "attach_response"
   ]
  },
  {
   "cell_type": "markdown",
   "metadata": {},
   "source": [
    "---\n",
    "\n",
    "#### Creating Redshift cluster\n",
    "\n",
    "---"
   ]
  },
  {
   "cell_type": "code",
   "execution_count": 9,
   "metadata": {},
   "outputs": [],
   "source": [
    "redshift = boto3.client('redshift',\n",
    "    region_name             = \"us-west-2\",\n",
    "    aws_access_key_id       = aws_key,\n",
    "    aws_secret_access_key   = aws_secret\n",
    ")"
   ]
  },
  {
   "cell_type": "code",
   "execution_count": 23,
   "metadata": {},
   "outputs": [
    {
     "data": {
      "text/plain": [
       "{'Cluster': {'ClusterIdentifier': 'redshift-cluster-1',\n",
       "  'NodeType': 'dc2.large',\n",
       "  'ClusterStatus': 'creating',\n",
       "  'ClusterAvailabilityStatus': 'Modifying',\n",
       "  'MasterUsername': 'dev',\n",
       "  'DBName': 'my_redshift_db',\n",
       "  'AutomatedSnapshotRetentionPeriod': 1,\n",
       "  'ManualSnapshotRetentionPeriod': -1,\n",
       "  'ClusterSecurityGroups': [],\n",
       "  'VpcSecurityGroups': [{'VpcSecurityGroupId': 'sg-082d4747234261501',\n",
       "    'Status': 'active'}],\n",
       "  'ClusterParameterGroups': [{'ParameterGroupName': 'default.redshift-1.0',\n",
       "    'ParameterApplyStatus': 'in-sync'}],\n",
       "  'ClusterSubnetGroupName': 'default',\n",
       "  'VpcId': 'vpc-0055627b0d43048a7',\n",
       "  'PreferredMaintenanceWindow': 'wed:09:00-wed:09:30',\n",
       "  'PendingModifiedValues': {'MasterUserPassword': '****'},\n",
       "  'ClusterVersion': '1.0',\n",
       "  'AllowVersionUpgrade': True,\n",
       "  'NumberOfNodes': 4,\n",
       "  'PubliclyAccessible': True,\n",
       "  'Encrypted': False,\n",
       "  'Tags': [],\n",
       "  'EnhancedVpcRouting': False,\n",
       "  'IamRoles': [{'IamRoleArn': 'arn:aws:iam::380710778029:role/RedShift_Impersonation',\n",
       "    'ApplyStatus': 'adding'}],\n",
       "  'MaintenanceTrackName': 'current',\n",
       "  'DeferredMaintenanceWindows': [],\n",
       "  'NextMaintenanceWindowStartTime': datetime.datetime(2022, 8, 17, 9, 0, tzinfo=tzutc()),\n",
       "  'AquaConfiguration': {'AquaStatus': 'disabled',\n",
       "   'AquaConfigurationStatus': 'auto'}},\n",
       " 'ResponseMetadata': {'RequestId': '8047a658-afe8-4e4d-b935-d6c0fcf592b7',\n",
       "  'HTTPStatusCode': 200,\n",
       "  'HTTPHeaders': {'x-amzn-requestid': '8047a658-afe8-4e4d-b935-d6c0fcf592b7',\n",
       "   'content-type': 'text/xml',\n",
       "   'content-length': '2466',\n",
       "   'vary': 'accept-encoding',\n",
       "   'date': 'Mon, 15 Aug 2022 17:09:46 GMT'},\n",
       "  'RetryAttempts': 0}}"
      ]
     },
     "execution_count": 23,
     "metadata": {},
     "output_type": "execute_result"
    }
   ],
   "source": [
    "#Documentation: https://boto3.amazonaws.com/v1/documentation/api/latest/reference/services/redshift.html#Redshift.Client.create_cluster\n",
    "redshift_response = redshift.create_cluster(\n",
    "    ClusterType = \"multi-node\",\n",
    "    NodeType = 'dc2.large',\n",
    "    NumberOfNodes = 4,\n",
    "    DBName = \"my_redshift_db\",\n",
    "    ClusterIdentifier = 'redshift-cluster-1',\n",
    "    MasterUsername = redshift_cred[\"user\"],\n",
    "    MasterUserPassword = redshift_cred[\"password\"],\n",
    "    IamRoles = [role_arn]\n",
    ")\n",
    "\n",
    "'''\n",
    "WARNING! After running this code, you WILL create a Redshift cluster. Be sure to delete it to not incur costs!!\n",
    "'''\n",
    "\n",
    "redshift_response"
   ]
  },
  {
   "cell_type": "code",
   "execution_count": 36,
   "metadata": {},
   "outputs": [
    {
     "data": {
      "text/plain": [
       "{'Clusters': [],\n",
       " 'ResponseMetadata': {'RequestId': '3c3fe77c-7911-4154-ba0b-56172c545bf1',\n",
       "  'HTTPStatusCode': 200,\n",
       "  'HTTPHeaders': {'x-amzn-requestid': '3c3fe77c-7911-4154-ba0b-56172c545bf1',\n",
       "   'content-type': 'text/xml',\n",
       "   'content-length': '287',\n",
       "   'date': 'Mon, 15 Aug 2022 17:33:51 GMT'},\n",
       "  'RetryAttempts': 0}}"
      ]
     },
     "execution_count": 36,
     "metadata": {},
     "output_type": "execute_result"
    }
   ],
   "source": [
    "redshift.describe_clusters()"
   ]
  },
  {
   "cell_type": "code",
   "execution_count": 31,
   "metadata": {},
   "outputs": [],
   "source": [
    "response = redshift.delete_cluster(\n",
    "    ClusterIdentifier = 'redshift-cluster-1',\n",
    "    SkipFinalClusterSnapshot=True\n",
    ")"
   ]
  },
  {
   "cell_type": "markdown",
   "metadata": {},
   "source": [
    "---\n",
    "\n",
    "#### Creating S3 Bucket\n",
    "\n",
    "---"
   ]
  },
  {
   "cell_type": "code",
   "execution_count": 41,
   "metadata": {},
   "outputs": [],
   "source": [
    "s3 = boto3.client('s3',\n",
    "    region_name             = \"us-west-2\",\n",
    "    aws_access_key_id       = aws_key,\n",
    "    aws_secret_access_key   = aws_secret\n",
    ")"
   ]
  },
  {
   "cell_type": "code",
   "execution_count": 52,
   "metadata": {},
   "outputs": [
    {
     "name": "stdout",
     "output_type": "stream",
     "text": [
      "s3.ObjectSummary(bucket_name='udacitybucket17', key='AWS_Code.md')\n"
     ]
    }
   ],
   "source": [
    "'''\n",
    "#This command is telling me my bucket name is invalid even though it is not. Not sure why:\n",
    "\n",
    "s3_response = s3.create_bucket(\n",
    "    Bucket = \"whyWontBucketWork-udacitycourse\",\n",
    "    CreateBucketConfiguration = {\n",
    "        'LocationConstraint':'us-west-2'\n",
    "    },\n",
    "    \n",
    ")\n",
    "'''\n",
    "\n",
    "s3_resource = boto3.resource('s3',\n",
    "    aws_access_key_id       = aws_key,\n",
    "    aws_secret_access_key   = aws_secret\n",
    ")\n",
    "bucket = s3_resource.Bucket(\"udacitybucket17\") #Bucket I made manually previously\n",
    "\n",
    "#Iterate over files in a bucket:\n",
    "bucket_data = bucket.objects.all()\n",
    "for file in bucket_data:\n",
    "    print(file)"
   ]
  }
 ],
 "metadata": {
  "kernelspec": {
   "display_name": "Python 3.10.4 64-bit",
   "language": "python",
   "name": "python3"
  },
  "language_info": {
   "codemirror_mode": {
    "name": "ipython",
    "version": 3
   },
   "file_extension": ".py",
   "mimetype": "text/x-python",
   "name": "python",
   "nbconvert_exporter": "python",
   "pygments_lexer": "ipython3",
   "version": "3.10.4"
  },
  "orig_nbformat": 4,
  "vscode": {
   "interpreter": {
    "hash": "916dbcbb3f70747c44a77c7bcd40155683ae19c65e1c03b4aa3499c5328201f1"
   }
  }
 },
 "nbformat": 4,
 "nbformat_minor": 2
}
