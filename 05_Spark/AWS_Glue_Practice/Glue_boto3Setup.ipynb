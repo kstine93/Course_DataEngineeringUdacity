{
 "cells": [
  {
   "cell_type": "markdown",
   "metadata": {},
   "source": [
    "## Glue Setup with Python SDK (boto3)\n",
    "This notebook will show how to set up some AWS resources using the Python SDK for AWS, boto3.\n",
    "\n",
    "Boto3 Documentation: https://boto3.amazonaws.com/v1/documentation/api/latest/reference/services/redshift.html"
   ]
  },
  {
   "cell_type": "markdown",
   "metadata": {},
   "source": [
    "---\n",
    "\n",
    "#### Package Import\n",
    "\n",
    "---"
   ]
  },
  {
   "cell_type": "code",
   "execution_count": 2,
   "metadata": {},
   "outputs": [],
   "source": [
    "import boto3\n",
    "import configparser"
   ]
  },
  {
   "cell_type": "markdown",
   "metadata": {},
   "source": [
    "---\n",
    "\n",
    "#### Loading Credentials from file\n",
    "\n",
    "---"
   ]
  },
  {
   "cell_type": "code",
   "execution_count": 3,
   "metadata": {},
   "outputs": [
    {
     "data": {
      "text/plain": [
       "['/home/rambino/.aws/credentials']"
      ]
     },
     "execution_count": 3,
     "metadata": {},
     "output_type": "execute_result"
    }
   ],
   "source": [
    "#AWS Credentials\n",
    "aws_path = \"/home/rambino/.aws/credentials\"\n",
    "aws_cred = configparser.ConfigParser()\n",
    "aws_cred.read(aws_path)"
   ]
  },
  {
   "cell_type": "markdown",
   "metadata": {},
   "source": [
    "---\n",
    "\n",
    "#### Create SSH keypair for connecting to EC2 instances\n",
    "\n",
    "---"
   ]
  },
  {
   "cell_type": "code",
   "execution_count": 4,
   "metadata": {},
   "outputs": [],
   "source": [
    "ec2 = boto3.client('ec2',\n",
    "    region_name             = \"us-east-1\",\n",
    "    aws_access_key_id       = aws_cred['default']['aws_access_key_id'],\n",
    "    aws_secret_access_key   = aws_cred['default']['aws_secret_access_key']\n",
    ")"
   ]
  },
  {
   "cell_type": "markdown",
   "metadata": {},
   "source": [
    "---\n",
    "\n",
    "#### Creating New S3 Bucket\n",
    "\n",
    "---"
   ]
  },
  {
   "cell_type": "code",
   "execution_count": 6,
   "metadata": {},
   "outputs": [],
   "source": [
    "s3 = boto3.client(\n",
    "    \"s3\",\n",
    "    region_name=\"us-east-1\",\n",
    "    aws_access_key_id       = aws_cred['default']['aws_access_key_id'],\n",
    "    aws_secret_access_key   = aws_cred['default']['aws_secret_access_key']\n",
    ")"
   ]
  },
  {
   "cell_type": "code",
   "execution_count": 7,
   "metadata": {},
   "outputs": [
    {
     "ename": "ClientError",
     "evalue": "An error occurred (AccessDenied) when calling the CreateBucket operation: Access Denied",
     "output_type": "error",
     "traceback": [
      "\u001b[0;31m---------------------------------------------------------------------------\u001b[0m",
      "\u001b[0;31mClientError\u001b[0m                               Traceback (most recent call last)",
      "\u001b[1;32m/home/rambino/dev/DataEngineering_Udacity/05_Spark/AWS_Glue_Practice/Glue_boto3Setup.ipynb Cell 10\u001b[0m in \u001b[0;36m<cell line: 3>\u001b[0;34m()\u001b[0m\n\u001b[1;32m      <a href='vscode-notebook-cell:/home/rambino/dev/DataEngineering_Udacity/05_Spark/AWS_Glue_Practice/Glue_boto3Setup.ipynb#X12sZmlsZQ%3D%3D?line=0'>1</a>\u001b[0m bucketName \u001b[39m=\u001b[39m \u001b[39m\"\u001b[39m\u001b[39mglue-kstine-bucket\u001b[39m\u001b[39m\"\u001b[39m\n\u001b[0;32m----> <a href='vscode-notebook-cell:/home/rambino/dev/DataEngineering_Udacity/05_Spark/AWS_Glue_Practice/Glue_boto3Setup.ipynb#X12sZmlsZQ%3D%3D?line=2'>3</a>\u001b[0m s3_response \u001b[39m=\u001b[39m s3\u001b[39m.\u001b[39;49mcreate_bucket(\n\u001b[1;32m      <a href='vscode-notebook-cell:/home/rambino/dev/DataEngineering_Udacity/05_Spark/AWS_Glue_Practice/Glue_boto3Setup.ipynb#X12sZmlsZQ%3D%3D?line=3'>4</a>\u001b[0m     Bucket \u001b[39m=\u001b[39;49m bucketName,\n\u001b[1;32m      <a href='vscode-notebook-cell:/home/rambino/dev/DataEngineering_Udacity/05_Spark/AWS_Glue_Practice/Glue_boto3Setup.ipynb#X12sZmlsZQ%3D%3D?line=4'>5</a>\u001b[0m     CreateBucketConfiguration \u001b[39m=\u001b[39;49m {\n\u001b[1;32m      <a href='vscode-notebook-cell:/home/rambino/dev/DataEngineering_Udacity/05_Spark/AWS_Glue_Practice/Glue_boto3Setup.ipynb#X12sZmlsZQ%3D%3D?line=5'>6</a>\u001b[0m         \u001b[39m'\u001b[39;49m\u001b[39mLocationConstraint\u001b[39;49m\u001b[39m'\u001b[39;49m:\u001b[39m'\u001b[39;49m\u001b[39meu-central-1\u001b[39;49m\u001b[39m'\u001b[39;49m\n\u001b[1;32m      <a href='vscode-notebook-cell:/home/rambino/dev/DataEngineering_Udacity/05_Spark/AWS_Glue_Practice/Glue_boto3Setup.ipynb#X12sZmlsZQ%3D%3D?line=6'>7</a>\u001b[0m     }\n\u001b[1;32m      <a href='vscode-notebook-cell:/home/rambino/dev/DataEngineering_Udacity/05_Spark/AWS_Glue_Practice/Glue_boto3Setup.ipynb#X12sZmlsZQ%3D%3D?line=7'>8</a>\u001b[0m )\n\u001b[1;32m     <a href='vscode-notebook-cell:/home/rambino/dev/DataEngineering_Udacity/05_Spark/AWS_Glue_Practice/Glue_boto3Setup.ipynb#X12sZmlsZQ%3D%3D?line=9'>10</a>\u001b[0m s3_response\n",
      "File \u001b[0;32m~/.local/lib/python3.10/site-packages/botocore/client.py:508\u001b[0m, in \u001b[0;36mClientCreator._create_api_method.<locals>._api_call\u001b[0;34m(self, *args, **kwargs)\u001b[0m\n\u001b[1;32m    504\u001b[0m     \u001b[39mraise\u001b[39;00m \u001b[39mTypeError\u001b[39;00m(\n\u001b[1;32m    505\u001b[0m         \u001b[39mf\u001b[39m\u001b[39m\"\u001b[39m\u001b[39m{\u001b[39;00mpy_operation_name\u001b[39m}\u001b[39;00m\u001b[39m() only accepts keyword arguments.\u001b[39m\u001b[39m\"\u001b[39m\n\u001b[1;32m    506\u001b[0m     )\n\u001b[1;32m    507\u001b[0m \u001b[39m# The \"self\" in this scope is referring to the BaseClient.\u001b[39;00m\n\u001b[0;32m--> 508\u001b[0m \u001b[39mreturn\u001b[39;00m \u001b[39mself\u001b[39;49m\u001b[39m.\u001b[39;49m_make_api_call(operation_name, kwargs)\n",
      "File \u001b[0;32m~/.local/lib/python3.10/site-packages/botocore/client.py:915\u001b[0m, in \u001b[0;36mBaseClient._make_api_call\u001b[0;34m(self, operation_name, api_params)\u001b[0m\n\u001b[1;32m    913\u001b[0m     error_code \u001b[39m=\u001b[39m parsed_response\u001b[39m.\u001b[39mget(\u001b[39m\"\u001b[39m\u001b[39mError\u001b[39m\u001b[39m\"\u001b[39m, {})\u001b[39m.\u001b[39mget(\u001b[39m\"\u001b[39m\u001b[39mCode\u001b[39m\u001b[39m\"\u001b[39m)\n\u001b[1;32m    914\u001b[0m     error_class \u001b[39m=\u001b[39m \u001b[39mself\u001b[39m\u001b[39m.\u001b[39mexceptions\u001b[39m.\u001b[39mfrom_code(error_code)\n\u001b[0;32m--> 915\u001b[0m     \u001b[39mraise\u001b[39;00m error_class(parsed_response, operation_name)\n\u001b[1;32m    916\u001b[0m \u001b[39melse\u001b[39;00m:\n\u001b[1;32m    917\u001b[0m     \u001b[39mreturn\u001b[39;00m parsed_response\n",
      "\u001b[0;31mClientError\u001b[0m: An error occurred (AccessDenied) when calling the CreateBucket operation: Access Denied"
     ]
    }
   ],
   "source": [
    "bucketName = \"glue-kstine-bucket\"\n",
    "\n",
    "s3_response = s3.create_bucket(\n",
    "    Bucket = bucketName,\n",
    "    CreateBucketConfiguration = {\n",
    "        'LocationConstraint':'eu-central-1'\n",
    "    }\n",
    ")\n",
    "\n",
    "s3_response"
   ]
  },
  {
   "cell_type": "markdown",
   "metadata": {},
   "source": [
    "---\n",
    "\n",
    "#### Setting up VPC for Glue\n",
    "\n",
    "---"
   ]
  },
  {
   "cell_type": "markdown",
   "metadata": {},
   "source": [
    "Creating default VPC:"
   ]
  },
  {
   "cell_type": "code",
   "execution_count": 8,
   "metadata": {},
   "outputs": [
    {
     "name": "stdout",
     "output_type": "stream",
     "text": [
      "\n",
      "An error occurred (DefaultVpcAlreadyExists) when calling the CreateDefaultVpc operation: A Default VPC already exists for this account in this region.\n"
     ]
    }
   ],
   "source": [
    "!aws ec2 create-default-vpc --profile default"
   ]
  },
  {
   "cell_type": "markdown",
   "metadata": {},
   "source": [
    "Getting route table ID and VPC ID:\n",
    "\n",
    "[more info on route tables](https://docs.aws.amazon.com/vpc/latest/userguide/VPC_Route_Tables.html)"
   ]
  },
  {
   "cell_type": "code",
   "execution_count": 9,
   "metadata": {},
   "outputs": [],
   "source": [
    "rt_output = ec2.describe_route_tables()\n",
    "route_table_id = rt_output['RouteTables'][0]['RouteTableId']\n",
    "vpc_id = rt_output['RouteTables'][0]['VpcId']"
   ]
  },
  {
   "cell_type": "markdown",
   "metadata": {},
   "source": [
    "---\n",
    "\n",
    "#### Creating VPC Endpoint\n",
    "\n",
    "---"
   ]
  },
  {
   "cell_type": "code",
   "execution_count": 10,
   "metadata": {},
   "outputs": [],
   "source": [
    "#AWS VPCs have a defined set of 'services' - the service name we set up our endpoint with must come from this list.\n",
    "paginator = ec2.get_paginator('describe_vpc_endpoint_services')\n",
    "res = paginator.paginate()\n",
    "services = [x for x in res]\n",
    "services = services[0]['ServiceNames']"
   ]
  },
  {
   "cell_type": "code",
   "execution_count": 11,
   "metadata": {},
   "outputs": [
    {
     "name": "stdout",
     "output_type": "stream",
     "text": [
      "['com.amazonaws.s3-global.accesspoint', 'com.amazonaws.us-east-1.s3', 'com.amazonaws.us-east-1.s3', 'com.amazonaws.us-east-1.s3-outposts']\n"
     ]
    }
   ],
   "source": [
    "import re\n",
    "\n",
    "pat = re.compile('.*s3.*')\n",
    "print([x for x in services if pat.match(x)])\n",
    "\n",
    "#NOTE: I was surprised to only find 'us-east-1' locations in the service endpoints above - particularly when this region was 'invalid'\n",
    "#when I tried to use it for the S3 bucket creation. Maybe us-east-1 is just a 'default' and will still be able to access my bucket anywhere?\n",
    "serviceName = 'com.amazonaws.us-east-1.s3'"
   ]
  },
  {
   "cell_type": "code",
   "execution_count": 12,
   "metadata": {},
   "outputs": [
    {
     "ename": "ClientError",
     "evalue": "An error occurred (RouteAlreadyExists) when calling the CreateVpcEndpoint operation: route table rtb-00b37904147f08aad already has a route with destination-prefix-list-id pl-63a5400a",
     "output_type": "error",
     "traceback": [
      "\u001b[0;31m---------------------------------------------------------------------------\u001b[0m",
      "\u001b[0;31mClientError\u001b[0m                               Traceback (most recent call last)",
      "\u001b[1;32m/home/rambino/dev/DataEngineering_Udacity/05_Spark/AWS_Glue_Practice/Glue_boto3Setup.ipynb Cell 19\u001b[0m in \u001b[0;36m<cell line: 1>\u001b[0;34m()\u001b[0m\n\u001b[0;32m----> <a href='vscode-notebook-cell:/home/rambino/dev/DataEngineering_Udacity/05_Spark/AWS_Glue_Practice/Glue_boto3Setup.ipynb#X24sZmlsZQ%3D%3D?line=0'>1</a>\u001b[0m response \u001b[39m=\u001b[39m ec2\u001b[39m.\u001b[39;49mcreate_vpc_endpoint(\n\u001b[1;32m      <a href='vscode-notebook-cell:/home/rambino/dev/DataEngineering_Udacity/05_Spark/AWS_Glue_Practice/Glue_boto3Setup.ipynb#X24sZmlsZQ%3D%3D?line=1'>2</a>\u001b[0m     VpcId\u001b[39m=\u001b[39;49mvpc_id,\n\u001b[1;32m      <a href='vscode-notebook-cell:/home/rambino/dev/DataEngineering_Udacity/05_Spark/AWS_Glue_Practice/Glue_boto3Setup.ipynb#X24sZmlsZQ%3D%3D?line=2'>3</a>\u001b[0m     ServiceName\u001b[39m=\u001b[39;49mserviceName, \u001b[39m#Configurable, arbitrary name\u001b[39;49;00m\n\u001b[1;32m      <a href='vscode-notebook-cell:/home/rambino/dev/DataEngineering_Udacity/05_Spark/AWS_Glue_Practice/Glue_boto3Setup.ipynb#X24sZmlsZQ%3D%3D?line=3'>4</a>\u001b[0m     RouteTableIds\u001b[39m=\u001b[39;49m[route_table_id]\n\u001b[1;32m      <a href='vscode-notebook-cell:/home/rambino/dev/DataEngineering_Udacity/05_Spark/AWS_Glue_Practice/Glue_boto3Setup.ipynb#X24sZmlsZQ%3D%3D?line=4'>5</a>\u001b[0m )\n\u001b[1;32m      <a href='vscode-notebook-cell:/home/rambino/dev/DataEngineering_Udacity/05_Spark/AWS_Glue_Practice/Glue_boto3Setup.ipynb#X24sZmlsZQ%3D%3D?line=6'>7</a>\u001b[0m response\n",
      "File \u001b[0;32m~/.local/lib/python3.10/site-packages/botocore/client.py:508\u001b[0m, in \u001b[0;36mClientCreator._create_api_method.<locals>._api_call\u001b[0;34m(self, *args, **kwargs)\u001b[0m\n\u001b[1;32m    504\u001b[0m     \u001b[39mraise\u001b[39;00m \u001b[39mTypeError\u001b[39;00m(\n\u001b[1;32m    505\u001b[0m         \u001b[39mf\u001b[39m\u001b[39m\"\u001b[39m\u001b[39m{\u001b[39;00mpy_operation_name\u001b[39m}\u001b[39;00m\u001b[39m() only accepts keyword arguments.\u001b[39m\u001b[39m\"\u001b[39m\n\u001b[1;32m    506\u001b[0m     )\n\u001b[1;32m    507\u001b[0m \u001b[39m# The \"self\" in this scope is referring to the BaseClient.\u001b[39;00m\n\u001b[0;32m--> 508\u001b[0m \u001b[39mreturn\u001b[39;00m \u001b[39mself\u001b[39;49m\u001b[39m.\u001b[39;49m_make_api_call(operation_name, kwargs)\n",
      "File \u001b[0;32m~/.local/lib/python3.10/site-packages/botocore/client.py:915\u001b[0m, in \u001b[0;36mBaseClient._make_api_call\u001b[0;34m(self, operation_name, api_params)\u001b[0m\n\u001b[1;32m    913\u001b[0m     error_code \u001b[39m=\u001b[39m parsed_response\u001b[39m.\u001b[39mget(\u001b[39m\"\u001b[39m\u001b[39mError\u001b[39m\u001b[39m\"\u001b[39m, {})\u001b[39m.\u001b[39mget(\u001b[39m\"\u001b[39m\u001b[39mCode\u001b[39m\u001b[39m\"\u001b[39m)\n\u001b[1;32m    914\u001b[0m     error_class \u001b[39m=\u001b[39m \u001b[39mself\u001b[39m\u001b[39m.\u001b[39mexceptions\u001b[39m.\u001b[39mfrom_code(error_code)\n\u001b[0;32m--> 915\u001b[0m     \u001b[39mraise\u001b[39;00m error_class(parsed_response, operation_name)\n\u001b[1;32m    916\u001b[0m \u001b[39melse\u001b[39;00m:\n\u001b[1;32m    917\u001b[0m     \u001b[39mreturn\u001b[39;00m parsed_response\n",
      "\u001b[0;31mClientError\u001b[0m: An error occurred (RouteAlreadyExists) when calling the CreateVpcEndpoint operation: route table rtb-00b37904147f08aad already has a route with destination-prefix-list-id pl-63a5400a"
     ]
    }
   ],
   "source": [
    "response = ec2.create_vpc_endpoint(\n",
    "    VpcId=vpc_id,\n",
    "    ServiceName=serviceName, #Configurable, arbitrary name\n",
    "    RouteTableIds=[route_table_id]\n",
    ")\n",
    "\n",
    "response\n",
    "#Now, we have an endpoint which will allow the AWS Glue jobs to reach out to S3 and thereby access the data we have stored there."
   ]
  },
  {
   "cell_type": "markdown",
   "metadata": {},
   "source": [
    "---\n",
    "\n",
    "#### Creating IAM role for Glue to access S3\n",
    "\n",
    "---"
   ]
  },
  {
   "cell_type": "code",
   "execution_count": 13,
   "metadata": {},
   "outputs": [],
   "source": [
    "iam = boto3.client('iam',\n",
    "    region_name             = \"us-east-1\",\n",
    "    aws_access_key_id       = aws_cred['default']['aws_access_key_id'],\n",
    "    aws_secret_access_key   = aws_cred['default']['aws_secret_access_key']\n",
    ")"
   ]
  },
  {
   "cell_type": "code",
   "execution_count": 27,
   "metadata": {},
   "outputs": [
    {
     "data": {
      "text/plain": [
       "{'Role': {'Path': '/',\n",
       "  'RoleName': 'Glue_General_Service_Role',\n",
       "  'RoleId': 'AROA44VBDA5QZX3DN4WGA',\n",
       "  'Arn': 'arn:aws:iam::886174844769:role/Glue_General_Service_Role',\n",
       "  'CreateDate': datetime.datetime(2023, 8, 29, 18, 27, 40, tzinfo=tzutc()),\n",
       "  'AssumeRolePolicyDocument': {'Version': '2012-10-17',\n",
       "   'Statement': [{'Effect': 'Allow',\n",
       "     'Action': 'sts:AssumeRole',\n",
       "     'Principal': {'Service': 'glue.amazonaws.com'}}]}},\n",
       " 'ResponseMetadata': {'RequestId': '281ad9bf-a9c2-423a-bce4-6991aceb76e8',\n",
       "  'HTTPStatusCode': 200,\n",
       "  'HTTPHeaders': {'x-amzn-requestid': '281ad9bf-a9c2-423a-bce4-6991aceb76e8',\n",
       "   'content-type': 'text/xml',\n",
       "   'content-length': '802',\n",
       "   'date': 'Tue, 29 Aug 2023 18:27:39 GMT'},\n",
       "  'RetryAttempts': 0}}"
      ]
     },
     "execution_count": 27,
     "metadata": {},
     "output_type": "execute_result"
    }
   ],
   "source": [
    "import json\n",
    "\n",
    "iamRole = iam.create_role(\n",
    "    Path=\"/\",\n",
    "    RoleName=\"Glue_General_Service_Role\",\n",
    "    Description=\"Allows glue to access general resources\",\n",
    "    AssumeRolePolicyDocument=json.dumps(\n",
    "        {   \n",
    "            \"Version\": \"2012-10-17\",\n",
    "            \"Statement\": [\n",
    "                {\n",
    "                    \"Effect\": \"Allow\",\n",
    "                    \"Action\": \"sts:AssumeRole\",\n",
    "                    \"Principal\": {\"Service\": \"glue.amazonaws.com\"},\n",
    "                }\n",
    "            ],\n",
    "        }\n",
    "    )\n",
    ")\n",
    "\n",
    "iamRole"
   ]
  },
  {
   "cell_type": "markdown",
   "metadata": {},
   "source": [
    "---\n",
    "\n",
    "### Give Glue access to previously-created S3 bucket\n",
    "\n",
    "---"
   ]
  },
  {
   "cell_type": "code",
   "execution_count": 28,
   "metadata": {},
   "outputs": [
    {
     "data": {
      "text/plain": [
       "{'ResponseMetadata': {'RequestId': 'd210a91a-9ac6-4d13-be05-9a727f1f1e01',\n",
       "  'HTTPStatusCode': 200,\n",
       "  'HTTPHeaders': {'x-amzn-requestid': 'd210a91a-9ac6-4d13-be05-9a727f1f1e01',\n",
       "   'content-type': 'text/xml',\n",
       "   'content-length': '206',\n",
       "   'date': 'Tue, 29 Aug 2023 18:28:02 GMT'},\n",
       "  'RetryAttempts': 0}}"
      ]
     },
     "execution_count": 28,
     "metadata": {},
     "output_type": "execute_result"
    }
   ],
   "source": [
    "response = iam.put_role_policy(\n",
    "    RoleName='Glue_General_Service_Role',\n",
    "    PolicyName='S3Access',\n",
    "    PolicyDocument=json.dumps(\n",
    "        {\n",
    "            \"Version\":\"2012-10-17\",\n",
    "            \"Statement\": [\n",
    "                {\n",
    "                    \"Sid\": \"ListObjectsInBucket\",\n",
    "                    \"Effect\": \"Allow\",\n",
    "                    \"Action\": [ \"s3:ListBucket\" ],\n",
    "                    \"Resource\": [ f\"arn:aws:s3:::{bucketName}\" ]\n",
    "                },\n",
    "                { \n",
    "                    \"Sid\": \"AllObjectActions\",\n",
    "                    \"Effect\": \"Allow\",\n",
    "                    \"Action\": \"s3:*Object\",\n",
    "                    \"Resource\": [ f\"arn:aws:s3:::{bucketName}/*\" ]\n",
    "                }\n",
    "            ]\n",
    "        }\n",
    "    )\n",
    ")\n",
    "\n",
    "response"
   ]
  },
  {
   "cell_type": "markdown",
   "metadata": {},
   "source": [
    "---\n",
    "\n",
    "### Applying general Glue Policy\n",
    "This apparently gives Glue access to an array of general-purpose tools it needs to do what it does.\n",
    "I'm not sure why these roles need to be given explicitly if they're pretty standard.\n",
    "\n",
    "\n",
    "**Note:** Roles are a way to organize permissions. Policies are sets of permissions that can be attached to roles.\n",
    "\n",
    "---"
   ]
  },
  {
   "cell_type": "code",
   "execution_count": 29,
   "metadata": {},
   "outputs": [
    {
     "data": {
      "text/plain": [
       "{'ResponseMetadata': {'RequestId': '17721d99-f711-4e3d-9fa6-a9ade3f94864',\n",
       "  'HTTPStatusCode': 200,\n",
       "  'HTTPHeaders': {'x-amzn-requestid': '17721d99-f711-4e3d-9fa6-a9ade3f94864',\n",
       "   'content-type': 'text/xml',\n",
       "   'content-length': '206',\n",
       "   'date': 'Tue, 29 Aug 2023 18:28:09 GMT'},\n",
       "  'RetryAttempts': 0}}"
      ]
     },
     "execution_count": 29,
     "metadata": {},
     "output_type": "execute_result"
    }
   ],
   "source": [
    "#Loading very long policy from local file:\n",
    "policy_path = \"./glue_iam_role.json\"\n",
    "with open(policy_path) as file:\n",
    "    policy_json = file.read()\n",
    "\n",
    "\n",
    "#aws iam put-role-policy --role-name my-glue-service-role --policy-name GlueAccess --policy-document\n",
    "response = iam.put_role_policy(\n",
    "    RoleName='Glue_General_Service_Role',\n",
    "    PolicyName='GlueAccess',\n",
    "    PolicyDocument=policy_json\n",
    ")\n",
    "response\n"
   ]
  },
  {
   "cell_type": "code",
   "execution_count": null,
   "metadata": {},
   "outputs": [],
   "source": []
  }
 ],
 "metadata": {
  "kernelspec": {
   "display_name": "Python 3.10.4 64-bit",
   "language": "python",
   "name": "python3"
  },
  "language_info": {
   "codemirror_mode": {
    "name": "ipython",
    "version": 3
   },
   "file_extension": ".py",
   "mimetype": "text/x-python",
   "name": "python",
   "nbconvert_exporter": "python",
   "pygments_lexer": "ipython3",
   "version": "3.10.12"
  },
  "orig_nbformat": 4,
  "vscode": {
   "interpreter": {
    "hash": "916dbcbb3f70747c44a77c7bcd40155683ae19c65e1c03b4aa3499c5328201f1"
   }
  }
 },
 "nbformat": 4,
 "nbformat_minor": 2
}
