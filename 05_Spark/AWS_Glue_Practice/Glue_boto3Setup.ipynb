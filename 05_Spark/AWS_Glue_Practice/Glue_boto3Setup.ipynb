{
 "cells": [
  {
   "cell_type": "markdown",
   "metadata": {},
   "source": [
    "## Glue Setup with Python SDK (boto3)\n",
    "This notebook will show how to set up some AWS resources using the Python SDK for AWS, boto3.\n",
    "\n",
    "Boto3 Documentation: https://boto3.amazonaws.com/v1/documentation/api/latest/reference/services/redshift.html"
   ]
  },
  {
   "cell_type": "markdown",
   "metadata": {},
   "source": [
    "---\n",
    "\n",
    "#### Package Import\n",
    "\n",
    "---"
   ]
  },
  {
   "cell_type": "code",
   "execution_count": 14,
   "metadata": {},
   "outputs": [],
   "source": [
    "import boto3\n",
    "import configparser"
   ]
  },
  {
   "cell_type": "markdown",
   "metadata": {},
   "source": [
    "---\n",
    "\n",
    "#### Loading Credentials from file\n",
    "\n",
    "---"
   ]
  },
  {
   "cell_type": "code",
   "execution_count": 15,
   "metadata": {},
   "outputs": [
    {
     "data": {
      "text/plain": [
       "['/home/rambino/.aws/credentials']"
      ]
     },
     "execution_count": 15,
     "metadata": {},
     "output_type": "execute_result"
    }
   ],
   "source": [
    "#AWS Credentials\n",
    "aws_path = \"/home/rambino/.aws/credentials\"\n",
    "aws_cred = configparser.ConfigParser()\n",
    "aws_cred.read(aws_path)"
   ]
  },
  {
   "cell_type": "code",
   "execution_count": 21,
   "metadata": {},
   "outputs": [],
   "source": [
    "s3 = boto3.client(\n",
    "    \"s3\",\n",
    "    region_name=\"us-east-1\",\n",
    "    aws_access_key_id       = aws_cred['kevin_aws_account']['aws_access_key_id'],\n",
    "    aws_secret_access_key   = aws_cred['kevin_aws_account']['aws_secret_access_key']\n",
    ")\n",
    "\n",
    "bucketName = \"glue-kstine-bucket-udacity\""
   ]
  },
  {
   "cell_type": "markdown",
   "metadata": {},
   "source": [
    "---\n",
    "\n",
    "#### Creating New S3 Bucket\n",
    "\n",
    "---"
   ]
  },
  {
   "cell_type": "code",
   "execution_count": 22,
   "metadata": {},
   "outputs": [
    {
     "data": {
      "text/plain": [
       "{'ResponseMetadata': {'RequestId': '7GDN72Q57J7B41EK',\n",
       "  'HostId': 'yFYNeWTmzuPOegM6s2uagpsqmMl0EXN4SnvDLZiROe05cLkDasScJdLqLReEgdrmGzRdX+u91j0=',\n",
       "  'HTTPStatusCode': 200,\n",
       "  'HTTPHeaders': {'x-amz-id-2': 'yFYNeWTmzuPOegM6s2uagpsqmMl0EXN4SnvDLZiROe05cLkDasScJdLqLReEgdrmGzRdX+u91j0=',\n",
       "   'x-amz-request-id': '7GDN72Q57J7B41EK',\n",
       "   'date': 'Thu, 31 Aug 2023 19:31:42 GMT',\n",
       "   'location': 'http://glue-kstine-bucket-udacity.s3.amazonaws.com/',\n",
       "   'server': 'AmazonS3',\n",
       "   'content-length': '0'},\n",
       "  'RetryAttempts': 0},\n",
       " 'Location': 'http://glue-kstine-bucket-udacity.s3.amazonaws.com/'}"
      ]
     },
     "execution_count": 22,
     "metadata": {},
     "output_type": "execute_result"
    }
   ],
   "source": [
    "s3_response = s3.create_bucket(\n",
    "    Bucket = bucketName,\n",
    "    CreateBucketConfiguration = {\n",
    "        'LocationConstraint':'eu-central-1'\n",
    "    }\n",
    ")\n",
    "\n",
    "s3_response"
   ]
  },
  {
   "cell_type": "markdown",
   "metadata": {},
   "source": [
    "---\n",
    "\n",
    "### Uploading test data to bucket:\n",
    "\n",
    "---"
   ]
  },
  {
   "cell_type": "code",
   "execution_count": 23,
   "metadata": {},
   "outputs": [],
   "source": [
    "s3.upload_file(\n",
    "    Filename=\"./customer-data.json\",\n",
    "    Bucket=bucketName,\n",
    "    Key=\"customers/customer-data.json\"\n",
    ")\n"
   ]
  },
  {
   "cell_type": "markdown",
   "metadata": {},
   "source": [
    "---\n",
    "\n",
    "#### Setting up VPC for Glue\n",
    "\n",
    "---"
   ]
  },
  {
   "cell_type": "markdown",
   "metadata": {},
   "source": [
    "Creating default VPC:"
   ]
  },
  {
   "cell_type": "code",
   "execution_count": 24,
   "metadata": {},
   "outputs": [
    {
     "name": "stdout",
     "output_type": "stream",
     "text": [
      "\n",
      "An error occurred (DefaultVpcAlreadyExists) when calling the CreateDefaultVpc operation: A Default VPC already exists for this account in this region.\n"
     ]
    }
   ],
   "source": [
    "!aws ec2 create-default-vpc --profile default"
   ]
  },
  {
   "cell_type": "markdown",
   "metadata": {},
   "source": [
    "Getting route table ID and VPC ID:\n",
    "\n",
    "[more info on route tables](https://docs.aws.amazon.com/vpc/latest/userguide/VPC_Route_Tables.html)"
   ]
  },
  {
   "cell_type": "code",
   "execution_count": 25,
   "metadata": {},
   "outputs": [],
   "source": [
    "ec2 = boto3.client('ec2',\n",
    "    region_name             = \"us-east-1\",\n",
    "    aws_access_key_id       = aws_cred['kevin_aws_account']['aws_access_key_id'],\n",
    "    aws_secret_access_key   = aws_cred['kevin_aws_account']['aws_secret_access_key']\n",
    ")"
   ]
  },
  {
   "cell_type": "code",
   "execution_count": 26,
   "metadata": {},
   "outputs": [],
   "source": [
    "rt_output = ec2.describe_route_tables()\n",
    "route_table_id = rt_output['RouteTables'][0]['RouteTableId']\n",
    "vpc_id = rt_output['RouteTables'][0]['VpcId']"
   ]
  },
  {
   "cell_type": "markdown",
   "metadata": {},
   "source": [
    "---\n",
    "\n",
    "#### Creating VPC Endpoint\n",
    "\n",
    "---"
   ]
  },
  {
   "cell_type": "code",
   "execution_count": 27,
   "metadata": {},
   "outputs": [],
   "source": [
    "#AWS VPCs have a defined set of 'services' - the service name we set up our endpoint with must come from this list.\n",
    "paginator = ec2.get_paginator('describe_vpc_endpoint_services')\n",
    "res = paginator.paginate()\n",
    "services = [x for x in res]\n",
    "services = services[0]['ServiceNames']"
   ]
  },
  {
   "cell_type": "code",
   "execution_count": 28,
   "metadata": {},
   "outputs": [
    {
     "name": "stdout",
     "output_type": "stream",
     "text": [
      "['com.amazonaws.s3-global.accesspoint', 'com.amazonaws.us-east-1.s3', 'com.amazonaws.us-east-1.s3', 'com.amazonaws.us-east-1.s3-outposts']\n"
     ]
    }
   ],
   "source": [
    "import re\n",
    "\n",
    "pat = re.compile('.*s3.*')\n",
    "print([x for x in services if pat.match(x)])\n",
    "\n",
    "#NOTE: I was surprised to only find 'us-east-1' locations in the service endpoints above - particularly when this region was 'invalid'\n",
    "#when I tried to use it for the S3 bucket creation. Maybe us-east-1 is just a 'default' and will still be able to access my bucket anywhere?\n",
    "serviceName = 'com.amazonaws.us-east-1.s3'"
   ]
  },
  {
   "cell_type": "code",
   "execution_count": 29,
   "metadata": {},
   "outputs": [
    {
     "data": {
      "text/plain": [
       "{'VpcEndpoint': {'VpcEndpointId': 'vpce-033614953131f3cc7',\n",
       "  'VpcEndpointType': 'Gateway',\n",
       "  'VpcId': 'vpc-0c1eba71902c3b90f',\n",
       "  'ServiceName': 'com.amazonaws.us-east-1.s3',\n",
       "  'State': 'available',\n",
       "  'PolicyDocument': '{\"Version\":\"2008-10-17\",\"Statement\":[{\"Effect\":\"Allow\",\"Principal\":\"*\",\"Action\":\"*\",\"Resource\":\"*\"}]}',\n",
       "  'RouteTableIds': ['rtb-03a49da016f68bbbc'],\n",
       "  'SubnetIds': [],\n",
       "  'Groups': [],\n",
       "  'PrivateDnsEnabled': False,\n",
       "  'RequesterManaged': False,\n",
       "  'NetworkInterfaceIds': [],\n",
       "  'DnsEntries': [],\n",
       "  'CreationTimestamp': datetime.datetime(2023, 8, 31, 19, 51, 44, tzinfo=tzutc()),\n",
       "  'OwnerId': '544495716151'},\n",
       " 'ResponseMetadata': {'RequestId': '71216589-bfb1-4b4d-b8d1-63ea4a46558d',\n",
       "  'HTTPStatusCode': 200,\n",
       "  'HTTPHeaders': {'x-amzn-requestid': '71216589-bfb1-4b4d-b8d1-63ea4a46558d',\n",
       "   'cache-control': 'no-cache, no-store',\n",
       "   'strict-transport-security': 'max-age=31536000; includeSubDomains',\n",
       "   'vary': 'accept-encoding',\n",
       "   'content-type': 'text/xml;charset=UTF-8',\n",
       "   'transfer-encoding': 'chunked',\n",
       "   'date': 'Thu, 31 Aug 2023 19:51:44 GMT',\n",
       "   'server': 'AmazonEC2'},\n",
       "  'RetryAttempts': 0}}"
      ]
     },
     "execution_count": 29,
     "metadata": {},
     "output_type": "execute_result"
    }
   ],
   "source": [
    "response = ec2.create_vpc_endpoint(\n",
    "    VpcId=vpc_id,\n",
    "    ServiceName=serviceName,\n",
    "    RouteTableIds=[route_table_id]\n",
    ")\n",
    "\n",
    "response\n",
    "#Now, we have an endpoint which will allow the AWS Glue jobs to reach out to S3 and thereby access the data we have stored there."
   ]
  },
  {
   "cell_type": "markdown",
   "metadata": {},
   "source": [
    "---\n",
    "\n",
    "#### Creating IAM role for Glue to access S3\n",
    "\n",
    "---"
   ]
  },
  {
   "cell_type": "code",
   "execution_count": 32,
   "metadata": {},
   "outputs": [],
   "source": [
    "iam = boto3.client('iam',\n",
    "    region_name             = \"us-east-1\",\n",
    "    aws_access_key_id       = aws_cred['kevin_aws_account']['aws_access_key_id'],\n",
    "    aws_secret_access_key   = aws_cred['kevin_aws_account']['aws_secret_access_key']\n",
    ")"
   ]
  },
  {
   "cell_type": "code",
   "execution_count": 33,
   "metadata": {},
   "outputs": [
    {
     "data": {
      "text/plain": [
       "{'Role': {'Path': '/',\n",
       "  'RoleName': 'Glue_General_Service_Role',\n",
       "  'RoleId': 'AROAX5RTZI434WT326WPS',\n",
       "  'Arn': 'arn:aws:iam::544495716151:role/Glue_General_Service_Role',\n",
       "  'CreateDate': datetime.datetime(2023, 8, 31, 19, 52, 16, tzinfo=tzutc()),\n",
       "  'AssumeRolePolicyDocument': {'Version': '2012-10-17',\n",
       "   'Statement': [{'Effect': 'Allow',\n",
       "     'Action': 'sts:AssumeRole',\n",
       "     'Principal': {'Service': 'glue.amazonaws.com'}}]}},\n",
       " 'ResponseMetadata': {'RequestId': 'e92dd858-4034-49aa-b870-9dc05bde3305',\n",
       "  'HTTPStatusCode': 200,\n",
       "  'HTTPHeaders': {'x-amzn-requestid': 'e92dd858-4034-49aa-b870-9dc05bde3305',\n",
       "   'content-type': 'text/xml',\n",
       "   'content-length': '802',\n",
       "   'date': 'Thu, 31 Aug 2023 19:52:16 GMT'},\n",
       "  'RetryAttempts': 0}}"
      ]
     },
     "execution_count": 33,
     "metadata": {},
     "output_type": "execute_result"
    }
   ],
   "source": [
    "import json\n",
    "\n",
    "iamRole = iam.create_role(\n",
    "    Path=\"/\",\n",
    "    RoleName=\"Glue_General_Service_Role\",\n",
    "    Description=\"Allows glue to access general resources\",\n",
    "    AssumeRolePolicyDocument=json.dumps(\n",
    "        {   \n",
    "            \"Version\": \"2012-10-17\",\n",
    "            \"Statement\": [\n",
    "                {\n",
    "                    \"Effect\": \"Allow\",\n",
    "                    \"Action\": \"sts:AssumeRole\",\n",
    "                    \"Principal\": {\"Service\": \"glue.amazonaws.com\"},\n",
    "                }\n",
    "            ],\n",
    "        }\n",
    "    )\n",
    ")\n",
    "\n",
    "iamRole"
   ]
  },
  {
   "cell_type": "markdown",
   "metadata": {},
   "source": [
    "---\n",
    "\n",
    "### Give Glue access to previously-created S3 bucket\n",
    "\n",
    "---"
   ]
  },
  {
   "cell_type": "code",
   "execution_count": 34,
   "metadata": {},
   "outputs": [
    {
     "data": {
      "text/plain": [
       "{'ResponseMetadata': {'RequestId': '0bb82e7e-54ec-444a-a0a3-bd903fcc9b14',\n",
       "  'HTTPStatusCode': 200,\n",
       "  'HTTPHeaders': {'x-amzn-requestid': '0bb82e7e-54ec-444a-a0a3-bd903fcc9b14',\n",
       "   'content-type': 'text/xml',\n",
       "   'content-length': '206',\n",
       "   'date': 'Thu, 31 Aug 2023 19:52:20 GMT'},\n",
       "  'RetryAttempts': 0}}"
      ]
     },
     "execution_count": 34,
     "metadata": {},
     "output_type": "execute_result"
    }
   ],
   "source": [
    "response = iam.put_role_policy(\n",
    "    RoleName='Glue_General_Service_Role',\n",
    "    PolicyName='S3Access',\n",
    "    PolicyDocument=json.dumps(\n",
    "        {\n",
    "            \"Version\":\"2012-10-17\",\n",
    "            \"Statement\": [\n",
    "                {\n",
    "                    \"Sid\": \"ListObjectsInBucket\",\n",
    "                    \"Effect\": \"Allow\",\n",
    "                    \"Action\": [ \"s3:ListBucket\" ],\n",
    "                    \"Resource\": [ f\"arn:aws:s3:::{bucketName}\" ]\n",
    "                },\n",
    "                { \n",
    "                    \"Sid\": \"AllObjectActions\",\n",
    "                    \"Effect\": \"Allow\",\n",
    "                    \"Action\": \"s3:*Object\",\n",
    "                    \"Resource\": [ f\"arn:aws:s3:::{bucketName}/*\" ]\n",
    "                }\n",
    "            ]\n",
    "        }\n",
    "    )\n",
    ")\n",
    "\n",
    "response"
   ]
  },
  {
   "cell_type": "markdown",
   "metadata": {},
   "source": [
    "---\n",
    "\n",
    "### Applying general Glue Policy\n",
    "This apparently gives Glue access to an array of general-purpose tools it needs to do what it does.\n",
    "I'm not sure why these roles need to be given explicitly if they're pretty standard.\n",
    "\n",
    "\n",
    "**Note:** Roles are a way to organize permissions. Policies are sets of permissions that can be attached to roles.\n",
    "\n",
    "---"
   ]
  },
  {
   "cell_type": "code",
   "execution_count": 35,
   "metadata": {},
   "outputs": [
    {
     "data": {
      "text/plain": [
       "{'ResponseMetadata': {'RequestId': 'da4d62e6-01b9-49b5-8b0b-a65962ee40d1',\n",
       "  'HTTPStatusCode': 200,\n",
       "  'HTTPHeaders': {'x-amzn-requestid': 'da4d62e6-01b9-49b5-8b0b-a65962ee40d1',\n",
       "   'content-type': 'text/xml',\n",
       "   'content-length': '206',\n",
       "   'date': 'Thu, 31 Aug 2023 19:52:30 GMT'},\n",
       "  'RetryAttempts': 0}}"
      ]
     },
     "execution_count": 35,
     "metadata": {},
     "output_type": "execute_result"
    }
   ],
   "source": [
    "#Loading very long policy from local file:\n",
    "policy_path = \"./glue_iam_role.json\"\n",
    "with open(policy_path) as file:\n",
    "    policy_json = file.read()\n",
    "\n",
    "\n",
    "#aws iam put-role-policy --role-name my-glue-service-role --policy-name GlueAccess --policy-document\n",
    "response = iam.put_role_policy(\n",
    "    RoleName='Glue_General_Service_Role',\n",
    "    PolicyName='GlueAccess',\n",
    "    PolicyDocument=policy_json\n",
    ")\n",
    "response\n"
   ]
  }
 ],
 "metadata": {
  "kernelspec": {
   "display_name": "Python 3.10.4 64-bit",
   "language": "python",
   "name": "python3"
  },
  "language_info": {
   "codemirror_mode": {
    "name": "ipython",
    "version": 3
   },
   "file_extension": ".py",
   "mimetype": "text/x-python",
   "name": "python",
   "nbconvert_exporter": "python",
   "pygments_lexer": "ipython3",
   "version": "3.10.12"
  },
  "orig_nbformat": 4,
  "vscode": {
   "interpreter": {
    "hash": "916dbcbb3f70747c44a77c7bcd40155683ae19c65e1c03b4aa3499c5328201f1"
   }
  }
 },
 "nbformat": 4,
 "nbformat_minor": 2
}
