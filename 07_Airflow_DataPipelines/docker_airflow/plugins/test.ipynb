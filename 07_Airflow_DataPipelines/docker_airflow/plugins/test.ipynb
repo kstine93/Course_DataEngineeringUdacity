{
 "cells": [
  {
   "cell_type": "code",
   "execution_count": 2,
   "metadata": {},
   "outputs": [],
   "source": [
    "import logging\n",
    "\n",
    "from airflow.operators.python import PythonOperator\n",
    "from airflow.providers.postgres.operators.postgres import PostgresHook, PostgresOperator\n",
    "from airflow.models import BaseOperator\n",
    "from airflow.utils.decorators import apply_defaults\n",
    "\n",
    "\n",
    "class HasRowsOperator(BaseOperator):\n",
    "\n",
    "    def __init__(self,\n",
    "                 redshift_conn_id=\"\",\n",
    "                 table=\"\",\n",
    "                 *args,\n",
    "                 **kwargs):\n",
    "\n",
    "        super(HasRowsOperator, self).__init__(*args,**kwargs)\n",
    "        self.table = table\n",
    "        self.redshift_conn_id = redshift_conn_id\n",
    "\n",
    "    def execute(self,context):\n",
    "        redshift_hook = PostgresHook(self.redshift_conn_id)\n",
    "        records = PostgresHook.get_records(f\"SELECT COUNT(*) FROM {self.table}\")\n",
    "        if len(records) < 1 or len(records[0]) < 1:\n",
    "            raise ValueError(f\"Data quality check FAILED: {self.table} returned no results\")\n",
    "        num_records = records[0][0]\n",
    "        if num_records < 1:\n",
    "            raise ValueError(f\"Data quality check FAILED: {self.table} contains 0 rows\")\n",
    "        logging.info(f\"Data Quality check SUCCEEDED: more than 0 rows in {self.table} ({num_records} rows found)\")\n"
   ]
  },
  {
   "cell_type": "code",
   "execution_count": 3,
   "metadata": {},
   "outputs": [
    {
     "data": {
      "text/plain": [
       "(__main__.HasRowsOperator,\n",
       " airflow.models.baseoperator.BaseOperator,\n",
       " airflow.models.abstractoperator.AbstractOperator,\n",
       " airflow.utils.log.logging_mixin.LoggingMixin,\n",
       " airflow.models.taskmixin.DAGNode,\n",
       " airflow.models.taskmixin.DependencyMixin,\n",
       " object)"
      ]
     },
     "execution_count": 3,
     "metadata": {},
     "output_type": "execute_result"
    }
   ],
   "source": [
    "HasRowsOperator.__mro__"
   ]
  }
 ],
 "metadata": {
  "kernelspec": {
   "display_name": "Python 3.10.6 64-bit",
   "language": "python",
   "name": "python3"
  },
  "language_info": {
   "codemirror_mode": {
    "name": "ipython",
    "version": 3
   },
   "file_extension": ".py",
   "mimetype": "text/x-python",
   "name": "python",
   "nbconvert_exporter": "python",
   "pygments_lexer": "ipython3",
   "version": "3.10.6"
  },
  "orig_nbformat": 4,
  "vscode": {
   "interpreter": {
    "hash": "916dbcbb3f70747c44a77c7bcd40155683ae19c65e1c03b4aa3499c5328201f1"
   }
  }
 },
 "nbformat": 4,
 "nbformat_minor": 2
}
