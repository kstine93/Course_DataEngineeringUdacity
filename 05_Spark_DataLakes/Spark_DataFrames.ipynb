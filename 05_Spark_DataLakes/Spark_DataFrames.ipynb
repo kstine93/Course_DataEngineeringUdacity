{
 "cells": [
  {
   "cell_type": "code",
   "execution_count": 29,
   "metadata": {},
   "outputs": [],
   "source": [
    "from pyspark.sql import SparkSession\n",
    "from pyspark.sql.functions import udf\n",
    "from pyspark.sql.types import StringType\n",
    "from pyspark.sql.types import IntegerType\n",
    "from pyspark.sql.functions import desc\n",
    "from pyspark.sql.functions import asc\n",
    "from pyspark.sql.functions import sum as Fsum\n",
    "from pyspark.sql import Window\n",
    "\n",
    "import datetime\n",
    "\n",
    "import numpy as np\n",
    "import pandas as pd\n",
    "\n",
    "import matplotlib.pyplot as plt\n",
    "\n",
    "%matplotlib inline"
   ]
  },
  {
   "cell_type": "markdown",
   "metadata": {},
   "source": [
    "Create Spark Session"
   ]
  },
  {
   "cell_type": "code",
   "execution_count": 3,
   "metadata": {},
   "outputs": [
    {
     "name": "stderr",
     "output_type": "stream",
     "text": [
      "Warning: Ignoring non-Spark config property: config option\n"
     ]
    },
    {
     "name": "stdout",
     "output_type": "stream",
     "text": [
      "22/08/29 19:39:31 WARN Utils: Your hostname, rambino-AERO-15-XD resolves to a loopback address: 127.0.1.1; using 192.168.0.234 instead (on interface wlp48s0)\n",
      "22/08/29 19:39:31 WARN Utils: Set SPARK_LOCAL_IP if you need to bind to another address\n"
     ]
    },
    {
     "name": "stderr",
     "output_type": "stream",
     "text": [
      "Setting default log level to \"WARN\".\n",
      "To adjust logging level use sc.setLogLevel(newLevel). For SparkR, use setLogLevel(newLevel).\n"
     ]
    },
    {
     "name": "stdout",
     "output_type": "stream",
     "text": [
      "22/08/29 19:39:31 WARN NativeCodeLoader: Unable to load native-hadoop library for your platform... using builtin-java classes where applicable\n"
     ]
    }
   ],
   "source": [
    "#Note that Spark only allows one Spark context and one Spark session to be defined at any time.\n",
    "#In the code below, 'GetOrCreate' will either create the Spark session or modify the existing one.\n",
    "\n",
    "sparkSesh = SparkSession \\\n",
    "    .builder \\\n",
    "    .appName(\"app Name\") \\\n",
    "    .config('config option','config value') \\\n",
    "    .master(\"local[*]\") \\\n",
    "    .getOrCreate()"
   ]
  },
  {
   "cell_type": "markdown",
   "metadata": {},
   "source": [
    "Look at parameters of Spark context"
   ]
  },
  {
   "cell_type": "code",
   "execution_count": 6,
   "metadata": {},
   "outputs": [
    {
     "data": {
      "text/plain": [
       "[('spark.driver.host', '192.168.0.234'),\n",
       " ('spark.driver.extraJavaOptions',\n",
       "  '-XX:+IgnoreUnrecognizedVMOptions --add-opens=java.base/java.lang=ALL-UNNAMED --add-opens=java.base/java.lang.invoke=ALL-UNNAMED --add-opens=java.base/java.lang.reflect=ALL-UNNAMED --add-opens=java.base/java.io=ALL-UNNAMED --add-opens=java.base/java.net=ALL-UNNAMED --add-opens=java.base/java.nio=ALL-UNNAMED --add-opens=java.base/java.util=ALL-UNNAMED --add-opens=java.base/java.util.concurrent=ALL-UNNAMED --add-opens=java.base/java.util.concurrent.atomic=ALL-UNNAMED --add-opens=java.base/sun.nio.ch=ALL-UNNAMED --add-opens=java.base/sun.nio.cs=ALL-UNNAMED --add-opens=java.base/sun.security.action=ALL-UNNAMED --add-opens=java.base/sun.util.calendar=ALL-UNNAMED --add-opens=java.security.jgss/sun.security.krb5=ALL-UNNAMED'),\n",
       " ('config option', 'config value'),\n",
       " ('spark.executor.id', 'driver'),\n",
       " ('spark.sql.warehouse.dir',\n",
       "  'file:/home/rambino/dev/DataEngineering_Udacity/05_Spark_DataLakes/spark-warehouse'),\n",
       " ('spark.app.submitTime', '1661794771653'),\n",
       " ('spark.app.name', 'app Name'),\n",
       " ('spark.driver.port', '38765'),\n",
       " ('spark.rdd.compress', 'True'),\n",
       " ('spark.executor.extraJavaOptions',\n",
       "  '-XX:+IgnoreUnrecognizedVMOptions --add-opens=java.base/java.lang=ALL-UNNAMED --add-opens=java.base/java.lang.invoke=ALL-UNNAMED --add-opens=java.base/java.lang.reflect=ALL-UNNAMED --add-opens=java.base/java.io=ALL-UNNAMED --add-opens=java.base/java.net=ALL-UNNAMED --add-opens=java.base/java.nio=ALL-UNNAMED --add-opens=java.base/java.util=ALL-UNNAMED --add-opens=java.base/java.util.concurrent=ALL-UNNAMED --add-opens=java.base/java.util.concurrent.atomic=ALL-UNNAMED --add-opens=java.base/sun.nio.ch=ALL-UNNAMED --add-opens=java.base/sun.nio.cs=ALL-UNNAMED --add-opens=java.base/sun.security.action=ALL-UNNAMED --add-opens=java.base/sun.util.calendar=ALL-UNNAMED --add-opens=java.security.jgss/sun.security.krb5=ALL-UNNAMED'),\n",
       " ('spark.serializer.objectStreamReset', '100'),\n",
       " ('spark.master', 'local[*]'),\n",
       " ('spark.submit.pyFiles', ''),\n",
       " ('spark.submit.deployMode', 'client'),\n",
       " ('spark.app.startTime', '1661794771764'),\n",
       " ('spark.ui.showConsoleProgress', 'true'),\n",
       " ('spark.app.id', 'local-1661794772294')]"
      ]
     },
     "execution_count": 6,
     "metadata": {},
     "output_type": "execute_result"
    }
   ],
   "source": [
    "sparkSesh.sparkContext.getConf().getAll()"
   ]
  },
  {
   "cell_type": "markdown",
   "metadata": {},
   "source": [
    "Importing a basic file"
   ]
  },
  {
   "cell_type": "code",
   "execution_count": 46,
   "metadata": {},
   "outputs": [],
   "source": [
    "read_path = \"./sparkify_log_small.json\"\n",
    "log_data = sparkSesh.read.json(read_path)"
   ]
  },
  {
   "cell_type": "markdown",
   "metadata": {},
   "source": [
    "Take a look at the data"
   ]
  },
  {
   "cell_type": "code",
   "execution_count": 7,
   "metadata": {},
   "outputs": [
    {
     "name": "stderr",
     "output_type": "stream",
     "text": [
      "                                                                                \r"
     ]
    },
    {
     "data": {
      "text/plain": [
       "DataFrame[summary: string, artist: string, auth: string, firstName: string, gender: string, itemInSession: string, lastName: string, length: string, level: string, location: string, method: string, page: string, registration: string, sessionId: string, song: string, status: string, ts: string, userAgent: string, userId: string]"
      ]
     },
     "execution_count": 7,
     "metadata": {},
     "output_type": "execute_result"
    }
   ],
   "source": [
    "#log_data.head()\n",
    "#log_data.take(2)\n",
    "\n",
    "#log_data.schema()\n",
    "log_data.describe() #Similar to 'str' function (structure) in R for describing data frames\n",
    "\n",
    "#log_data.count()"
   ]
  },
  {
   "cell_type": "markdown",
   "metadata": {},
   "source": [
    "Drilling down into particular columns"
   ]
  },
  {
   "cell_type": "code",
   "execution_count": null,
   "metadata": {},
   "outputs": [],
   "source": [
    "log_data.select(\"artist\").show()\n",
    "log_data.select(\"artist\").dropDuplicates().sort('artist').show()"
   ]
  },
  {
   "cell_type": "markdown",
   "metadata": {},
   "source": [
    "More advanced drilldown"
   ]
  },
  {
   "cell_type": "code",
   "execution_count": 11,
   "metadata": {},
   "outputs": [
    {
     "data": {
      "text/plain": [
       "[Row(userId='1046', page='NextSong', song='Christmas Tears Will Fall'),\n",
       " Row(userId='1046', page='NextSong', song='Be Wary Of A Woman'),\n",
       " Row(userId='1046', page='NextSong', song='Public Enemy No.1'),\n",
       " Row(userId='1046', page='NextSong', song='Reign Of The Tyrants'),\n",
       " Row(userId='1046', page='NextSong', song='Father And Son'),\n",
       " Row(userId='1046', page='NextSong', song='No. 5'),\n",
       " Row(userId='1046', page='NextSong', song='Seventeen')]"
      ]
     },
     "execution_count": 11,
     "metadata": {},
     "output_type": "execute_result"
    }
   ],
   "source": [
    "# log_data \\\n",
    "#     .where(log_data.artist != \"null\") \\\n",
    "#     .groupBy('artist') \\\n",
    "#     .count() \\\n",
    "#     .orderBy('count', ascending=False) \\\n",
    "#     .show()\n",
    "\n",
    "\n",
    "log_data \\\n",
    "    .select([\"userId\",\"page\",\"song\"]) \\\n",
    "    .where(log_data.userId == \"1046\") \\\n",
    "    .collect()"
   ]
  },
  {
   "cell_type": "markdown",
   "metadata": {},
   "source": [
    "Using custom function to create a new column in data frame"
   ]
  },
  {
   "cell_type": "code",
   "execution_count": 47,
   "metadata": {},
   "outputs": [],
   "source": [
    "get_hour = udf(lambda x: datetime.datetime.fromtimestamp(float(x) / 1000.0). hour)\n",
    "\n",
    "#Note: this will not evaluate until data is called (lazy evaluation)\n",
    "log_data = log_data.withColumn(\"hour\", get_hour(log_data.ts))"
   ]
  },
  {
   "cell_type": "markdown",
   "metadata": {},
   "source": [
    "Filtering sessions events by when users choose 'nextSong', and looking at the hour during which that happened."
   ]
  },
  {
   "cell_type": "code",
   "execution_count": 38,
   "metadata": {},
   "outputs": [
    {
     "name": "stdout",
     "output_type": "stream",
     "text": [
      "+----+-----+\n",
      "|hour|count|\n",
      "+----+-----+\n",
      "|   0|  147|\n",
      "|   1|  225|\n",
      "|   2|  216|\n",
      "|   3|  179|\n",
      "|   4|  141|\n",
      "|   5|  151|\n",
      "|   6|  113|\n",
      "|   7|  180|\n",
      "|   8|   93|\n",
      "|  23|  205|\n",
      "+----+-----+\n",
      "\n"
     ]
    }
   ],
   "source": [
    "song_hour_view = log_data \\\n",
    "    .filter(log_data.page == \"NextSong\") \\\n",
    "    .groupBy(log_data.hour) \\\n",
    "    .count() \\\n",
    "    .orderBy(log_data.hour.cast(\"float\"))\n",
    "\n",
    "song_hour_view.show()"
   ]
  },
  {
   "cell_type": "markdown",
   "metadata": {},
   "source": [
    "Converting to Pandas data frame\n",
    ">(Question: Why use pandas over spark?) Maybe to use matplotlib"
   ]
  },
  {
   "cell_type": "code",
   "execution_count": 20,
   "metadata": {},
   "outputs": [],
   "source": [
    "pd_song_hour_view = song_hour_view.toPandas()"
   ]
  },
  {
   "cell_type": "code",
   "execution_count": 21,
   "metadata": {},
   "outputs": [
    {
     "data": {
      "text/plain": [
       "Text(0, 0.5, '# Songs played')"
      ]
     },
     "execution_count": 21,
     "metadata": {},
     "output_type": "execute_result"
    },
    {
     "data": {
      "image/png": "[encoded data removed]",
      "text/plain": [
       "<Figure size 432x288 with 1 Axes>"
      ]
     },
     "metadata": {
      "needs_background": "light"
     },
     "output_type": "display_data"
    }
   ],
   "source": [
    "plt.scatter(pd_song_hour_view['hour'],pd_song_hour_view['count'])\n",
    "plt.xlim(-1,24)\n",
    "plt.ylim(0,1.2 * max(pd_song_hour_view['count']))\n",
    "plt.xlabel(\"Hour\")\n",
    "plt.ylabel(\"# Songs played\")"
   ]
  },
  {
   "cell_type": "markdown",
   "metadata": {},
   "source": [
    "Data cleaning"
   ]
  },
  {
   "cell_type": "code",
   "execution_count": 48,
   "metadata": {},
   "outputs": [
    {
     "data": {
      "text/plain": [
       "1925"
      ]
     },
     "execution_count": 48,
     "metadata": {},
     "output_type": "execute_result"
    }
   ],
   "source": [
    "#This will drop any records where 'userId' or 'sessionId' is missing\n",
    "clean_log_data = log_data.dropna(how = \"any\", subset = [\"userId\",\"sessionId\"])\n",
    "\n",
    "#Clean out any fields where userId is an empty string\n",
    "clean_log_data = clean_log_data.filter(clean_log_data[\"userId\"] != \"\")\n",
    "\n",
    "clean_log_data.count()"
   ]
  },
  {
   "cell_type": "markdown",
   "metadata": {},
   "source": [
    "### Additional Analysis: users who have upgraded their service\n",
    "We'll take a look at the events before and after users decided to upgrade their subscriptions to try and find out why"
   ]
  },
  {
   "cell_type": "code",
   "execution_count": 49,
   "metadata": {},
   "outputs": [
    {
     "data": {
      "text/plain": [
       "Row(artist='Showaddywaddy', auth='Logged In', firstName='Kenneth', gender='M', itemInSession=112, lastName='Matthews', length=232.93342, level='paid', location='Charlotte-Concord-Gastonia, NC-SC', method='PUT', page='NextSong', registration=1509380319284, sessionId=5132, song='Christmas Tears Will Fall', status=200, ts=1513720872284, userAgent='\"Mozilla/5.0 (Windows NT 6.1) AppleWebKit/537.36 (KHTML, like Gecko) Chrome/36.0.1985.125 Safari/537.36\"', userId='1046', hour='23', upgrade=0)"
      ]
     },
     "execution_count": 49,
     "metadata": {},
     "output_type": "execute_result"
    }
   ],
   "source": [
    "#simple function for creating a column to flag downgrade events\n",
    "flag_upgrade_event = udf(lambda x: 1 if x == \"Submit Upgrade\" else 0, IntegerType())\n",
    "\n",
    "clean_log_data = clean_log_data.withColumn(\"upgrade\", flag_upgrade_event(\"page\"))\n",
    "clean_log_data.head()"
   ]
  },
  {
   "cell_type": "markdown",
   "metadata": {},
   "source": [
    "Definig a window function for partitioning data based on userId and ordering by time."
   ]
  },
  {
   "cell_type": "code",
   "execution_count": 50,
   "metadata": {},
   "outputs": [],
   "source": [
    "windowVal = Window \\\n",
    "    .partitionBy(\"userId\") \\\n",
    "    .orderBy(desc('ts')) \\\n",
    "    .rangeBetween(Window.unboundedPreceding,0) #This including all PREVIOUS rows, but no rows after criteria.\n",
    "\n",
    "clean_log_data = clean_log_data.withColumn(\"phase\", Fsum(\"upgrade\").over(windowVal))"
   ]
  },
  {
   "cell_type": "markdown",
   "metadata": {},
   "source": [
    "Now, let's find a random customer who downgraded to try this on"
   ]
  },
  {
   "cell_type": "code",
   "execution_count": 51,
   "metadata": {},
   "outputs": [
    {
     "name": "stdout",
     "output_type": "stream",
     "text": [
      "+------+\n",
      "|userId|\n",
      "+------+\n",
      "|   512|\n",
      "|  1232|\n",
      "|  1079|\n",
      "|   540|\n",
      "+------+\n",
      "\n"
     ]
    }
   ],
   "source": [
    "clean_log_data \\\n",
    "    .select(['userId']) \\\n",
    "    .where(clean_log_data.page == \"Submit Upgrade\") \\\n",
    "    .show()"
   ]
  },
  {
   "cell_type": "code",
   "execution_count": 52,
   "metadata": {},
   "outputs": [
    {
     "data": {
      "text/plain": [
       "[Row(userId='1232', firstname='Dreden', ts=1513727268284, page='Home', level='free', phase=1),\n",
       " Row(userId='1232', firstname='Dreden', ts=1513727589284, page='NextSong', level='free', phase=1),\n",
       " Row(userId='1232', firstname='Dreden', ts=1513727885284, page='NextSong', level='free', phase=1),\n",
       " Row(userId='1232', firstname='Dreden', ts=1513728173284, page='NextSong', level='free', phase=1),\n",
       " Row(userId='1232', firstname='Dreden', ts=1513728346284, page='NextSong', level='free', phase=1),\n",
       " Row(userId='1232', firstname='Dreden', ts=1513728548284, page='NextSong', level='free', phase=1),\n",
       " Row(userId='1232', firstname='Dreden', ts=1513738827284, page='NextSong', level='free', phase=1),\n",
       " Row(userId='1232', firstname='Dreden', ts=1513739064284, page='NextSong', level='free', phase=1),\n",
       " Row(userId='1232', firstname='Dreden', ts=1513739103284, page='Upgrade', level='free', phase=1),\n",
       " Row(userId='1232', firstname='Dreden', ts=1513739104284, page='Submit Upgrade', level='free', phase=1),\n",
       " Row(userId='1232', firstname='Dreden', ts=1513739156284, page='Home', level='paid', phase=0),\n",
       " Row(userId='1232', firstname='Dreden', ts=1513739286284, page='NextSong', level='paid', phase=0),\n",
       " Row(userId='1232', firstname='Dreden', ts=1513739552284, page='NextSong', level='paid', phase=0),\n",
       " Row(userId='1232', firstname='Dreden', ts=1513739756284, page='NextSong', level='paid', phase=0),\n",
       " Row(userId='1232', firstname='Dreden', ts=1513740075284, page='NextSong', level='paid', phase=0),\n",
       " Row(userId='1232', firstname='Dreden', ts=1513740198284, page='NextSong', level='paid', phase=0),\n",
       " Row(userId='1232', firstname='Dreden', ts=1513740448284, page='NextSong', level='paid', phase=0),\n",
       " Row(userId='1232', firstname='Dreden', ts=1513740707284, page='NextSong', level='paid', phase=0),\n",
       " Row(userId='1232', firstname='Dreden', ts=1513740934284, page='NextSong', level='paid', phase=0),\n",
       " Row(userId='1232', firstname='Dreden', ts=1513741251284, page='NextSong', level='paid', phase=0),\n",
       " Row(userId='1232', firstname='Dreden', ts=1513741461284, page='NextSong', level='paid', phase=0),\n",
       " Row(userId='1232', firstname='Dreden', ts=1513741657284, page='NextSong', level='paid', phase=0),\n",
       " Row(userId='1232', firstname='Dreden', ts=1513742198284, page='NextSong', level='paid', phase=0),\n",
       " Row(userId='1232', firstname='Dreden', ts=1513742497284, page='NextSong', level='paid', phase=0),\n",
       " Row(userId='1232', firstname='Dreden', ts=1513742768284, page='NextSong', level='paid', phase=0),\n",
       " Row(userId='1232', firstname='Dreden', ts=1513743046284, page='NextSong', level='paid', phase=0),\n",
       " Row(userId='1232', firstname='Dreden', ts=1513743225284, page='NextSong', level='paid', phase=0),\n",
       " Row(userId='1232', firstname='Dreden', ts=1513743939284, page='NextSong', level='paid', phase=0),\n",
       " Row(userId='1232', firstname='Dreden', ts=1513744207284, page='NextSong', level='paid', phase=0),\n",
       " Row(userId='1232', firstname='Dreden', ts=1513744369284, page='NextSong', level='paid', phase=0),\n",
       " Row(userId='1232', firstname='Dreden', ts=1513744607284, page='NextSong', level='paid', phase=0),\n",
       " Row(userId='1232', firstname='Dreden', ts=1513744778284, page='NextSong', level='paid', phase=0),\n",
       " Row(userId='1232', firstname='Dreden', ts=1513744898284, page='NextSong', level='paid', phase=0),\n",
       " Row(userId='1232', firstname='Dreden', ts=1513745124284, page='NextSong', level='paid', phase=0),\n",
       " Row(userId='1232', firstname='Dreden', ts=1513745294284, page='NextSong', level='paid', phase=0),\n",
       " Row(userId='1232', firstname='Dreden', ts=1513745675284, page='NextSong', level='paid', phase=0),\n",
       " Row(userId='1232', firstname='Dreden', ts=1513745909284, page='NextSong', level='paid', phase=0),\n",
       " Row(userId='1232', firstname='Dreden', ts=1513746289284, page='NextSong', level='paid', phase=0),\n",
       " Row(userId='1232', firstname='Dreden', ts=1513746494284, page='NextSong', level='paid', phase=0),\n",
       " Row(userId='1232', firstname='Dreden', ts=1513746647284, page='NextSong', level='paid', phase=0),\n",
       " Row(userId='1232', firstname='Dreden', ts=1513746882284, page='NextSong', level='paid', phase=0),\n",
       " Row(userId='1232', firstname='Dreden', ts=1513747257284, page='NextSong', level='paid', phase=0),\n",
       " Row(userId='1232', firstname='Dreden', ts=1513747434284, page='NextSong', level='paid', phase=0),\n",
       " Row(userId='1232', firstname='Dreden', ts=1513747639284, page='NextSong', level='paid', phase=0),\n",
       " Row(userId='1232', firstname='Dreden', ts=1513747763284, page='NextSong', level='paid', phase=0),\n",
       " Row(userId='1232', firstname='Dreden', ts=1513747984284, page='NextSong', level='paid', phase=0),\n",
       " Row(userId='1232', firstname='Dreden', ts=1513748185284, page='NextSong', level='paid', phase=0),\n",
       " Row(userId='1232', firstname='Dreden', ts=1513748406284, page='NextSong', level='paid', phase=0),\n",
       " Row(userId='1232', firstname='Dreden', ts=1513748657284, page='NextSong', level='paid', phase=0),\n",
       " Row(userId='1232', firstname='Dreden', ts=1513748876284, page='NextSong', level='paid', phase=0),\n",
       " Row(userId='1232', firstname='Dreden', ts=1513749162284, page='NextSong', level='paid', phase=0),\n",
       " Row(userId='1232', firstname='Dreden', ts=1513749370284, page='NextSong', level='paid', phase=0),\n",
       " Row(userId='1232', firstname='Dreden', ts=1513749738284, page='NextSong', level='paid', phase=0),\n",
       " Row(userId='1232', firstname='Dreden', ts=1513750027284, page='NextSong', level='paid', phase=0),\n",
       " Row(userId='1232', firstname='Dreden', ts=1513750264284, page='NextSong', level='paid', phase=0),\n",
       " Row(userId='1232', firstname='Dreden', ts=1513750570284, page='NextSong', level='paid', phase=0),\n",
       " Row(userId='1232', firstname='Dreden', ts=1513750806284, page='NextSong', level='paid', phase=0),\n",
       " Row(userId='1232', firstname='Dreden', ts=1513751071284, page='NextSong', level='paid', phase=0),\n",
       " Row(userId='1232', firstname='Dreden', ts=1513751433284, page='NextSong', level='paid', phase=0),\n",
       " Row(userId='1232', firstname='Dreden', ts=1513751634284, page='NextSong', level='paid', phase=0),\n",
       " Row(userId='1232', firstname='Dreden', ts=1513751855284, page='NextSong', level='paid', phase=0),\n",
       " Row(userId='1232', firstname='Dreden', ts=1513752078284, page='Help', level='paid', phase=0),\n",
       " Row(userId='1232', firstname='Dreden', ts=1513753164284, page='NextSong', level='paid', phase=0),\n",
       " Row(userId='1232', firstname='Dreden', ts=1513753310284, page='NextSong', level='paid', phase=0),\n",
       " Row(userId='1232', firstname='Dreden', ts=1513753548284, page='NextSong', level='paid', phase=0),\n",
       " Row(userId='1232', firstname='Dreden', ts=1513753899284, page='NextSong', level='paid', phase=0),\n",
       " Row(userId='1232', firstname='Dreden', ts=1513754171284, page='NextSong', level='paid', phase=0),\n",
       " Row(userId='1232', firstname='Dreden', ts=1513754372284, page='NextSong', level='paid', phase=0),\n",
       " Row(userId='1232', firstname='Dreden', ts=1513754588284, page='NextSong', level='paid', phase=0),\n",
       " Row(userId='1232', firstname='Dreden', ts=1513754621284, page='Home', level='paid', phase=0),\n",
       " Row(userId='1232', firstname='Dreden', ts=1513754743284, page='NextSong', level='paid', phase=0),\n",
       " Row(userId='1232', firstname='Dreden', ts=1513755029284, page='NextSong', level='paid', phase=0),\n",
       " Row(userId='1232', firstname='Dreden', ts=1513755270284, page='NextSong', level='paid', phase=0)]"
      ]
     },
     "execution_count": 52,
     "metadata": {},
     "output_type": "execute_result"
    }
   ],
   "source": [
    "clean_log_data \\\n",
    "    .select(['userId','firstname','ts','page','level','phase']) \\\n",
    "    .where(clean_log_data.userId == \"1232\") \\\n",
    "    .sort('ts') \\\n",
    "    .collect()"
   ]
  },
  {
   "cell_type": "markdown",
   "metadata": {},
   "source": [
    "Write data out"
   ]
  },
  {
   "cell_type": "code",
   "execution_count": 54,
   "metadata": {},
   "outputs": [
    {
     "ename": "ModuleNotFoundError",
     "evalue": "No module named 'tkinter'",
     "output_type": "error",
     "traceback": [
      "\u001b[0;31m---------------------------------------------------------------------------\u001b[0m",
      "\u001b[0;31mModuleNotFoundError\u001b[0m                       Traceback (most recent call last)",
      "\u001b[1;32m/home/rambino/dev/DataEngineering_Udacity/05_Spark_DataLakes/Spark_DataFrames.ipynb Cell 31\u001b[0m in \u001b[0;36m<cell line: 5>\u001b[0;34m()\u001b[0m\n\u001b[1;32m      <a href='vscode-notebook-cell:/home/rambino/dev/DataEngineering_Udacity/05_Spark_DataLakes/Spark_DataFrames.ipynb#X13sZmlsZQ%3D%3D?line=0'>1</a>\u001b[0m \u001b[39m#This is cool - check out how Spark saves the file. For me, it's actually not a CSV at all, it's a FOLDER\u001b[39;00m\n\u001b[1;32m      <a href='vscode-notebook-cell:/home/rambino/dev/DataEngineering_Udacity/05_Spark_DataLakes/Spark_DataFrames.ipynb#X13sZmlsZQ%3D%3D?line=1'>2</a>\u001b[0m \u001b[39m#which has some metadata files and then multiple partitioned files. This is pretty cool - Spark is automatically\u001b[39;00m\n\u001b[1;32m      <a href='vscode-notebook-cell:/home/rambino/dev/DataEngineering_Udacity/05_Spark_DataLakes/Spark_DataFrames.ipynb#X13sZmlsZQ%3D%3D?line=2'>3</a>\u001b[0m \u001b[39m#partitioning my files, but keeping the abstraction very basic on my level.\u001b[39;00m\n\u001b[0;32m----> <a href='vscode-notebook-cell:/home/rambino/dev/DataEngineering_Udacity/05_Spark_DataLakes/Spark_DataFrames.ipynb#X13sZmlsZQ%3D%3D?line=4'>5</a>\u001b[0m \u001b[39mfrom\u001b[39;00m \u001b[39mtkinter\u001b[39;00m\u001b[39m.\u001b[39;00m\u001b[39mfiledialog\u001b[39;00m \u001b[39mimport\u001b[39;00m SaveAs\n\u001b[1;32m      <a href='vscode-notebook-cell:/home/rambino/dev/DataEngineering_Udacity/05_Spark_DataLakes/Spark_DataFrames.ipynb#X13sZmlsZQ%3D%3D?line=7'>8</a>\u001b[0m write_path \u001b[39m=\u001b[39m \u001b[39m\"\u001b[39m\u001b[39m./sparkify_log_small.csv\u001b[39m\u001b[39m\"\u001b[39m\n\u001b[1;32m      <a href='vscode-notebook-cell:/home/rambino/dev/DataEngineering_Udacity/05_Spark_DataLakes/Spark_DataFrames.ipynb#X13sZmlsZQ%3D%3D?line=8'>9</a>\u001b[0m clean_log_data\u001b[39m.\u001b[39mwrite\u001b[39m.\u001b[39mmode(saveMode\u001b[39m=\u001b[39m\u001b[39m\"\u001b[39m\u001b[39moverwrite\u001b[39m\u001b[39m\"\u001b[39m)\n",
      "\u001b[0;31mModuleNotFoundError\u001b[0m: No module named 'tkinter'"
     ]
    }
   ],
   "source": [
    "#This is cool - check out how Spark saves the file. For me, it's actually not a CSV at all, it's a FOLDER\n",
    "#which has some metadata files and then multiple partitioned files. This is pretty cool - Spark is automatically\n",
    "#partitioning my files, but keeping the abstraction very basic on my level.\n",
    "\n",
    "from tkinter.filedialog import SaveAs\n",
    "\n",
    "\n",
    "write_path = \"./sparkify_log_small.csv\"\n",
    "clean_log_data.write.mode(saveMode=\"overwrite\")\n",
    "clean_log_data.write.save(write_path, format = \"csv\", header = True,)"
   ]
  }
 ],
 "metadata": {
  "kernelspec": {
   "display_name": "Python 3.10.4 64-bit",
   "language": "python",
   "name": "python3"
  },
  "language_info": {
   "codemirror_mode": {
    "name": "ipython",
    "version": 3
   },
   "file_extension": ".py",
   "mimetype": "text/x-python",
   "name": "python",
   "nbconvert_exporter": "python",
   "pygments_lexer": "ipython3",
   "version": "3.10.4"
  },
  "orig_nbformat": 4,
  "vscode": {
   "interpreter": {
    "hash": "916dbcbb3f70747c44a77c7bcd40155683ae19c65e1c03b4aa3499c5328201f1"
   }
  }
 },
 "nbformat": 4,
 "nbformat_minor": 2
}
