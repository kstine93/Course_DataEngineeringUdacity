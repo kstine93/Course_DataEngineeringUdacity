{
 "cells": [
  {
   "cell_type": "markdown",
   "metadata": {},
   "source": [
    "## EMR Setup with Python SDK (boto3)\n",
    "This notebook will show how to set up some AWS resources using the Python SDK for AWS, boto3.\n",
    "\n",
    "Boto3 Documentation: https://boto3.amazonaws.com/v1/documentation/api/latest/reference/services/redshift.html"
   ]
  },
  {
   "cell_type": "markdown",
   "metadata": {},
   "source": [
    "---\n",
    "\n",
    "#### Package Import\n",
    "\n",
    "---"
   ]
  },
  {
   "cell_type": "code",
   "execution_count": 3,
   "metadata": {},
   "outputs": [],
   "source": [
    "import boto3\n",
    "import configparser"
   ]
  },
  {
   "cell_type": "markdown",
   "metadata": {},
   "source": [
    "---\n",
    "\n",
    "#### Loading Credentials from file\n",
    "\n",
    "---"
   ]
  },
  {
   "cell_type": "code",
   "execution_count": 4,
   "metadata": {},
   "outputs": [
    {
     "data": {
      "text/plain": [
       "['/home/rambino/.aws/credentials']"
      ]
     },
     "execution_count": 4,
     "metadata": {},
     "output_type": "execute_result"
    }
   ],
   "source": [
    "#AWS Credentials\n",
    "aws_path = \"/home/rambino/.aws/credentials\"\n",
    "aws_cred = configparser.ConfigParser()\n",
    "aws_cred.read(aws_path)\n"
   ]
  },
  {
   "cell_type": "markdown",
   "metadata": {},
   "source": [
    "---\n",
    "\n",
    "#### Create SSH keypair for connecting to EC2 instances\n",
    "\n",
    "---"
   ]
  },
  {
   "cell_type": "code",
   "execution_count": 5,
   "metadata": {},
   "outputs": [],
   "source": [
    "ec2 = boto3.client('ec2',\n",
    "    region_name             = \"us-east-1\",\n",
    "    aws_access_key_id       = aws_cred['udacity_course']['aws_access_key_id'],\n",
    "    aws_secret_access_key   = aws_cred['udacity_course']['aws_secret_access_key']\n",
    ")"
   ]
  },
  {
   "cell_type": "code",
   "execution_count": 10,
   "metadata": {},
   "outputs": [],
   "source": [
    "response = ec2.create_key_pair(\n",
    "    KeyName = 'spark_ec2_key',\n",
    "    DryRun=False,\n",
    "    KeyFormat='pem'\n",
    ")"
   ]
  },
  {
   "cell_type": "code",
   "execution_count": 25,
   "metadata": {},
   "outputs": [],
   "source": [
    "with open('/home/rambino/.aws/spark_keypair.pem',\"w\") as file:\n",
    "    file.writelines(response['KeyMaterial'])\n",
    "    #key.write(file)"
   ]
  },
  {
   "cell_type": "markdown",
   "metadata": {},
   "source": [
    "---\n",
    "\n",
    "#### Setting up VPC for the EMR cluster\n",
    "\n",
    "---\n",
    "\n",
    "If no VPC is specified for an EMR cluster, then the cluster is launched in the normal AWS cloud"
   ]
  },
  {
   "cell_type": "markdown",
   "metadata": {},
   "source": [
    "Creating default VPC:"
   ]
  },
  {
   "cell_type": "code",
   "execution_count": 55,
   "metadata": {},
   "outputs": [
    {
     "name": "stdout",
     "output_type": "stream",
     "text": [
      "\n",
      "An error occurred (DefaultVpcAlreadyExists) when calling the CreateDefaultVpc operation: A Default VPC already exists for this account in this region.\n"
     ]
    }
   ],
   "source": [
    "!aws ec2 create-default-vpc --profile default"
   ]
  },
  {
   "cell_type": "markdown",
   "metadata": {},
   "source": [
    "Getting **first** subnetId for this VPC:"
   ]
  },
  {
   "cell_type": "code",
   "execution_count": 53,
   "metadata": {},
   "outputs": [],
   "source": [
    "output = ec2.describe_vpcs()\n",
    "\n",
    "#Getting first (and only) VPC:\n",
    "vpcId = output['Vpcs'][0]['VpcId']\n",
    "\n",
    "output = ec2.describe_subnets(\n",
    "    Filters=[\n",
    "        {\n",
    "            'Name':'vpc-id',\n",
    "            'Values':[vpcId]\n",
    "        }\n",
    "    ]\n",
    ")\n",
    "\n",
    "subnetId = output['Subnets'][0]['SubnetId']"
   ]
  },
  {
   "cell_type": "markdown",
   "metadata": {},
   "source": [
    "---\n",
    "\n",
    "#### Setting up EMR Cluster\n",
    "\n",
    "---"
   ]
  },
  {
   "cell_type": "code",
   "execution_count": 26,
   "metadata": {},
   "outputs": [],
   "source": [
    "emr = boto3.client('emr',\n",
    "    region_name             = \"us-east-1\",\n",
    "    aws_access_key_id       = aws_cred['udacity_course']['aws_access_key_id'],\n",
    "    aws_secret_access_key   = aws_cred['udacity_course']['aws_secret_access_key']\n",
    ")"
   ]
  },
  {
   "cell_type": "code",
   "execution_count": 27,
   "metadata": {},
   "outputs": [
    {
     "data": {
      "text/plain": [
       "{'Cluster': {'Id': 'j-F5E5B0USH8J8',\n",
       "  'Name': 'spark-cluster',\n",
       "  'Status': {'State': 'STARTING',\n",
       "   'StateChangeReason': {},\n",
       "   'Timeline': {'CreationDateTime': datetime.datetime(2022, 9, 10, 20, 1, 26, 677000, tzinfo=tzlocal())}},\n",
       "  'Ec2InstanceAttributes': {'Ec2KeyName': 'spark_ec2_key',\n",
       "   'Ec2SubnetId': 'subnet-091ed9f12b84d7496',\n",
       "   'RequestedEc2SubnetIds': ['subnet-091ed9f12b84d7496'],\n",
       "   'Ec2AvailabilityZone': 'us-east-1f',\n",
       "   'RequestedEc2AvailabilityZones': [],\n",
       "   'IamInstanceProfile': 'EMR_EC2_DefaultRole',\n",
       "   'EmrManagedMasterSecurityGroup': 'sg-0febcf83330efd2ef',\n",
       "   'EmrManagedSlaveSecurityGroup': 'sg-09710e98a447090d5'},\n",
       "  'InstanceCollectionType': 'INSTANCE_GROUP',\n",
       "  'LogUri': 's3n://aws-logs-549653882425-us-east-1/elasticmapreduce/',\n",
       "  'ReleaseLabel': 'emr-5.20.0',\n",
       "  'AutoTerminate': False,\n",
       "  'TerminationProtected': False,\n",
       "  'VisibleToAllUsers': True,\n",
       "  'Applications': [{'Name': 'Ganglia', 'Version': '3.7.2'},\n",
       "   {'Name': 'Spark', 'Version': '2.4.0'},\n",
       "   {'Name': 'Zeppelin', 'Version': '0.8.0'}],\n",
       "  'Tags': [],\n",
       "  'ServiceRole': 'EMR_DefaultRole',\n",
       "  'NormalizedInstanceHours': 0,\n",
       "  'Configurations': [{'Classification': 'spark', 'Properties': {}}],\n",
       "  'ScaleDownBehavior': 'TERMINATE_AT_TASK_COMPLETION',\n",
       "  'KerberosAttributes': {},\n",
       "  'ClusterArn': 'arn:aws:elasticmapreduce:us-east-1:549653882425:cluster/j-F5E5B0USH8J8',\n",
       "  'StepConcurrencyLevel': 1,\n",
       "  'PlacementGroups': []},\n",
       " 'ResponseMetadata': {'RequestId': '5be1a4e3-d56c-424c-bc88-c572edb1ad1f',\n",
       "  'HTTPStatusCode': 200,\n",
       "  'HTTPHeaders': {'x-amzn-requestid': '5be1a4e3-d56c-424c-bc88-c572edb1ad1f',\n",
       "   'content-type': 'application/x-amz-json-1.1',\n",
       "   'content-length': '1242',\n",
       "   'date': 'Sat, 10 Sep 2022 18:02:29 GMT'},\n",
       "  'RetryAttempts': 0}}"
      ]
     },
     "execution_count": 27,
     "metadata": {},
     "output_type": "execute_result"
    }
   ],
   "source": [
    "response = emr.describe_cluster(\n",
    "    ClusterId='j-F5E5B0USH8J8'\n",
    ")\n",
    "response"
   ]
  },
  {
   "cell_type": "code",
   "execution_count": 29,
   "metadata": {},
   "outputs": [
    {
     "data": {
      "text/plain": [
       "{'JobFlowId': 'j-MXUROK0Y3TK9',\n",
       " 'ClusterArn': 'arn:aws:elasticmapreduce:us-east-1:549653882425:cluster/j-MXUROK0Y3TK9',\n",
       " 'ResponseMetadata': {'RequestId': 'efb07b3c-f06a-4566-81c8-d6f3e6f4c216',\n",
       "  'HTTPStatusCode': 200,\n",
       "  'HTTPHeaders': {'x-amzn-requestid': 'efb07b3c-f06a-4566-81c8-d6f3e6f4c216',\n",
       "   'content-type': 'application/x-amz-json-1.1',\n",
       "   'content-length': '116',\n",
       "   'date': 'Sat, 10 Sep 2022 18:20:07 GMT'},\n",
       "  'RetryAttempts': 0}}"
      ]
     },
     "execution_count": 29,
     "metadata": {},
     "output_type": "execute_result"
    }
   ],
   "source": [
    "emr.run_job_flow(\n",
    "            Name='spark-cluster-test',\n",
    "            LogUri='s3:///emrlogs/',\n",
    "            ReleaseLabel='emr-5.28.0',\n",
    "            Instances={\n",
    "                'MasterInstanceType': 'm5.xlarge',\n",
    "                'SlaveInstanceType': 'm5.xlarge',\n",
    "                'InstanceCount': 4,\n",
    "                'Ec2KeyName':'spark_ec2_key',\n",
    "                'KeepJobFlowAliveWhenNoSteps': True\n",
    "                #'EmrManagedMasterSecurityGroup': security_groups['manager'].id,\n",
    "                #'EmrManagedSlaveSecurityGroup': security_groups['worker'].id,\n",
    "            },\n",
    "            Applications=[\n",
    "                {\n",
    "                    \"Name\":\"Spark\"\n",
    "                },\n",
    "                {\n",
    "                    \"Name\":\"Zeppelin\"\n",
    "                }\n",
    "            ],\n",
    "            JobFlowRole='EMR_EC2_DefaultRole',\n",
    "            ServiceRole='EMR_DefaultRole',\n",
    "            VisibleToAllUsers=True\n",
    "        )"
   ]
  },
  {
   "cell_type": "markdown",
   "metadata": {},
   "source": [
    "Alternatively, create the EMR cluster via the command line:"
   ]
  },
  {
   "cell_type": "code",
   "execution_count": 60,
   "metadata": {},
   "outputs": [
    {
     "data": {
      "text/plain": [
       "'subnet-0b6cc9cfba9463659'"
      ]
     },
     "execution_count": 60,
     "metadata": {},
     "output_type": "execute_result"
    }
   ],
   "source": [
    "subnetId"
   ]
  },
  {
   "cell_type": "code",
   "execution_count": 70,
   "metadata": {},
   "outputs": [
    {
     "name": "stdout",
     "output_type": "stream",
     "text": [
      "{\n",
      "    \"ClusterId\": \"j-253YWRF4ZNWTJ\",\n",
      "    \"ClusterArn\": \"arn:aws:elasticmapreduce:us-east-1:549653882425:cluster/j-253YWRF4ZNWTJ\"\n",
      "}\n"
     ]
    }
   ],
   "source": [
    "!aws emr create-cluster --name spark-cluster \\\n",
    "    --use-default-roles \\\n",
    "    --release-label emr-5.28.0 \\\n",
    "    --instance-count 3 \\\n",
    "    --applications Name=Spark Name=Zeppelin \\\n",
    "    --ec2-attributes KeyName='spark_ec2_key',SubnetId='subnet-0b6cc9cfba9463659' \\\n",
    "    --instance-type m5.xlarge \\\n",
    "    --log-uri s3://emrlogs/"
   ]
  }
 ],
 "metadata": {
  "kernelspec": {
   "display_name": "Python 3.10.4 64-bit",
   "language": "python",
   "name": "python3"
  },
  "language_info": {
   "codemirror_mode": {
    "name": "ipython",
    "version": 3
   },
   "file_extension": ".py",
   "mimetype": "text/x-python",
   "name": "python",
   "nbconvert_exporter": "python",
   "pygments_lexer": "ipython3",
   "version": "3.10.4"
  },
  "orig_nbformat": 4,
  "vscode": {
   "interpreter": {
    "hash": "916dbcbb3f70747c44a77c7bcd40155683ae19c65e1c03b4aa3499c5328201f1"
   }
  }
 },
 "nbformat": 4,
 "nbformat_minor": 2
}
